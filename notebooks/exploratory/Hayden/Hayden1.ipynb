{
 "cells": [
  {
   "cell_type": "code",
   "execution_count": 98,
   "id": "b8107ebe-1450-4115-b7fe-32b644af5e61",
   "metadata": {},
   "outputs": [],
   "source": [
    "import numpy as np\n",
    "import pandas as pd\n",
    "import seaborn as sns\n",
    "from sklearn.preprocessing import MinMaxScaler\n",
    "from sklearn.model_selection import train_test_split\n",
    "from sklearn.metrics import mean_squared_error\n",
    "from sklearn.preprocessing import PolynomialFeatures\n",
    "from sklearn.linear_model import LinearRegression\n",
    "from sklearn.impute import SimpleImputer\n",
    "from sklearn.metrics import mean_squared_error as mse\n",
    "from sklearn.model_selection import cross_val_score\n",
    "from yellowbrick.datasets import load_concrete\n",
    "from yellowbrick.regressor import ResidualsPlot\n",
    "from sklearn.linear_model import Ridge\n",
    "from sklearn.preprocessing import OneHotEncoder, OrdinalEncoder\n",
    "import matplotlib.pyplot as plt\n",
    "import statistics\n",
    "%matplotlib inline"
   ]
  },
  {
   "cell_type": "code",
   "execution_count": 2,
   "id": "46e4d553-08a6-42af-920c-c2b4f9ef3b99",
   "metadata": {},
   "outputs": [
    {
     "data": {
      "text/html": [
       "<div>\n",
       "<style scoped>\n",
       "    .dataframe tbody tr th:only-of-type {\n",
       "        vertical-align: middle;\n",
       "    }\n",
       "\n",
       "    .dataframe tbody tr th {\n",
       "        vertical-align: top;\n",
       "    }\n",
       "\n",
       "    .dataframe thead th {\n",
       "        text-align: right;\n",
       "    }\n",
       "</style>\n",
       "<table border=\"1\" class=\"dataframe\">\n",
       "  <thead>\n",
       "    <tr style=\"text-align: right;\">\n",
       "      <th></th>\n",
       "      <th>id</th>\n",
       "      <th>date</th>\n",
       "      <th>price</th>\n",
       "      <th>bedrooms</th>\n",
       "      <th>bathrooms</th>\n",
       "      <th>sqft_living</th>\n",
       "      <th>sqft_lot</th>\n",
       "      <th>floors</th>\n",
       "      <th>waterfront</th>\n",
       "      <th>view</th>\n",
       "      <th>...</th>\n",
       "      <th>yr_built</th>\n",
       "      <th>yr_renovated</th>\n",
       "      <th>zipcode</th>\n",
       "      <th>lat</th>\n",
       "      <th>long</th>\n",
       "      <th>sqft_living15</th>\n",
       "      <th>sqft_lot15</th>\n",
       "      <th>Coordinates</th>\n",
       "      <th>School District</th>\n",
       "      <th>State Rank</th>\n",
       "    </tr>\n",
       "  </thead>\n",
       "  <tbody>\n",
       "    <tr>\n",
       "      <th>0</th>\n",
       "      <td>7129300520</td>\n",
       "      <td>10/13/2014</td>\n",
       "      <td>221900.0</td>\n",
       "      <td>small</td>\n",
       "      <td>minimal</td>\n",
       "      <td>1180</td>\n",
       "      <td>5650</td>\n",
       "      <td>1.0</td>\n",
       "      <td>NaN</td>\n",
       "      <td>0.0</td>\n",
       "      <td>...</td>\n",
       "      <td>1955</td>\n",
       "      <td>0.0</td>\n",
       "      <td>98178</td>\n",
       "      <td>47.5112</td>\n",
       "      <td>-122.257</td>\n",
       "      <td>1340</td>\n",
       "      <td>5650</td>\n",
       "      <td>(-122.257, 47.5112)</td>\n",
       "      <td>seattle</td>\n",
       "      <td>11-50</td>\n",
       "    </tr>\n",
       "    <tr>\n",
       "      <th>1</th>\n",
       "      <td>6414100192</td>\n",
       "      <td>12/9/2014</td>\n",
       "      <td>538000.0</td>\n",
       "      <td>small</td>\n",
       "      <td>minimal</td>\n",
       "      <td>2570</td>\n",
       "      <td>7242</td>\n",
       "      <td>2.0</td>\n",
       "      <td>0.0</td>\n",
       "      <td>0.0</td>\n",
       "      <td>...</td>\n",
       "      <td>1951</td>\n",
       "      <td>1991.0</td>\n",
       "      <td>98125</td>\n",
       "      <td>47.7210</td>\n",
       "      <td>-122.319</td>\n",
       "      <td>1690</td>\n",
       "      <td>7639</td>\n",
       "      <td>(-122.319, 47.721000000000004)</td>\n",
       "      <td>seattle</td>\n",
       "      <td>11-50</td>\n",
       "    </tr>\n",
       "    <tr>\n",
       "      <th>2</th>\n",
       "      <td>5631500400</td>\n",
       "      <td>2/25/2015</td>\n",
       "      <td>180000.0</td>\n",
       "      <td>small</td>\n",
       "      <td>minimal</td>\n",
       "      <td>770</td>\n",
       "      <td>10000</td>\n",
       "      <td>1.0</td>\n",
       "      <td>0.0</td>\n",
       "      <td>0.0</td>\n",
       "      <td>...</td>\n",
       "      <td>1933</td>\n",
       "      <td>NaN</td>\n",
       "      <td>98028</td>\n",
       "      <td>47.7379</td>\n",
       "      <td>-122.233</td>\n",
       "      <td>2720</td>\n",
       "      <td>8062</td>\n",
       "      <td>(-122.23299999999999, 47.7379)</td>\n",
       "      <td>northshore</td>\n",
       "      <td>Top_ten</td>\n",
       "    </tr>\n",
       "    <tr>\n",
       "      <th>3</th>\n",
       "      <td>2487200875</td>\n",
       "      <td>12/9/2014</td>\n",
       "      <td>604000.0</td>\n",
       "      <td>small</td>\n",
       "      <td>average</td>\n",
       "      <td>1960</td>\n",
       "      <td>5000</td>\n",
       "      <td>1.0</td>\n",
       "      <td>0.0</td>\n",
       "      <td>0.0</td>\n",
       "      <td>...</td>\n",
       "      <td>1965</td>\n",
       "      <td>0.0</td>\n",
       "      <td>98136</td>\n",
       "      <td>47.5208</td>\n",
       "      <td>-122.393</td>\n",
       "      <td>1360</td>\n",
       "      <td>5000</td>\n",
       "      <td>(-122.39299999999999, 47.5208)</td>\n",
       "      <td>seattle</td>\n",
       "      <td>11-50</td>\n",
       "    </tr>\n",
       "    <tr>\n",
       "      <th>4</th>\n",
       "      <td>1954400510</td>\n",
       "      <td>2/18/2015</td>\n",
       "      <td>510000.0</td>\n",
       "      <td>small</td>\n",
       "      <td>minimal</td>\n",
       "      <td>1680</td>\n",
       "      <td>8080</td>\n",
       "      <td>1.0</td>\n",
       "      <td>0.0</td>\n",
       "      <td>0.0</td>\n",
       "      <td>...</td>\n",
       "      <td>1987</td>\n",
       "      <td>0.0</td>\n",
       "      <td>98074</td>\n",
       "      <td>47.6168</td>\n",
       "      <td>-122.045</td>\n",
       "      <td>1800</td>\n",
       "      <td>7503</td>\n",
       "      <td>(-122.045, 47.6168)</td>\n",
       "      <td>lake washington</td>\n",
       "      <td>Top_ten</td>\n",
       "    </tr>\n",
       "  </tbody>\n",
       "</table>\n",
       "<p>5 rows × 24 columns</p>\n",
       "</div>"
      ],
      "text/plain": [
       "           id        date     price bedrooms bathrooms  sqft_living  sqft_lot  \\\n",
       "0  7129300520  10/13/2014  221900.0    small   minimal         1180      5650   \n",
       "1  6414100192   12/9/2014  538000.0    small   minimal         2570      7242   \n",
       "2  5631500400   2/25/2015  180000.0    small   minimal          770     10000   \n",
       "3  2487200875   12/9/2014  604000.0    small   average         1960      5000   \n",
       "4  1954400510   2/18/2015  510000.0    small   minimal         1680      8080   \n",
       "\n",
       "   floors  waterfront  view  ... yr_built yr_renovated  zipcode      lat  \\\n",
       "0     1.0         NaN   0.0  ...     1955          0.0    98178  47.5112   \n",
       "1     2.0         0.0   0.0  ...     1951       1991.0    98125  47.7210   \n",
       "2     1.0         0.0   0.0  ...     1933          NaN    98028  47.7379   \n",
       "3     1.0         0.0   0.0  ...     1965          0.0    98136  47.5208   \n",
       "4     1.0         0.0   0.0  ...     1987          0.0    98074  47.6168   \n",
       "\n",
       "      long  sqft_living15  sqft_lot15                     Coordinates  \\\n",
       "0 -122.257           1340        5650             (-122.257, 47.5112)   \n",
       "1 -122.319           1690        7639  (-122.319, 47.721000000000004)   \n",
       "2 -122.233           2720        8062  (-122.23299999999999, 47.7379)   \n",
       "3 -122.393           1360        5000  (-122.39299999999999, 47.5208)   \n",
       "4 -122.045           1800        7503             (-122.045, 47.6168)   \n",
       "\n",
       "   School District  State Rank  \n",
       "0          seattle       11-50  \n",
       "1          seattle       11-50  \n",
       "2       northshore     Top_ten  \n",
       "3          seattle       11-50  \n",
       "4  lake washington     Top_ten  \n",
       "\n",
       "[5 rows x 24 columns]"
      ]
     },
     "execution_count": 2,
     "metadata": {},
     "output_type": "execute_result"
    }
   ],
   "source": [
    "df = pd.read_csv('../../../data/Df with State Rank plus binned columns.csv',index_col=\"Unnamed: 0\")\n",
    "df.head()"
   ]
  },
  {
   "cell_type": "code",
   "execution_count": 3,
   "id": "6bbe2eb6-a18d-4288-abfc-473efe0e890a",
   "metadata": {},
   "outputs": [],
   "source": [
    "df = df.drop_duplicates()"
   ]
  },
  {
   "cell_type": "code",
   "execution_count": 4,
   "id": "4b790800-19fa-45b3-99e6-283ac79ceaa1",
   "metadata": {},
   "outputs": [],
   "source": [
    "df.date = df[\"date\"].map(lambda x: x.split(\"/\")[0])"
   ]
  },
  {
   "cell_type": "code",
   "execution_count": 5,
   "id": "3b8e53a3-6a37-4981-9206-ef456afd724b",
   "metadata": {},
   "outputs": [],
   "source": [
    "df['date'] = df['date'].map(lambda x: int(x))"
   ]
  },
  {
   "cell_type": "code",
   "execution_count": 6,
   "id": "d2d2fd67-7378-48f5-9f61-b00e4b4ab441",
   "metadata": {},
   "outputs": [],
   "source": [
    "df.waterfront = df.waterfront.replace(np.NaN, 0.0)"
   ]
  },
  {
   "cell_type": "code",
   "execution_count": 7,
   "id": "8b6d39a0-820c-4ba1-9419-074f5be0bb84",
   "metadata": {},
   "outputs": [],
   "source": [
    "df = df.fillna(0.0)"
   ]
  },
  {
   "cell_type": "code",
   "execution_count": 8,
   "id": "1747f233-90db-410a-a3e1-b9a13721b6b4",
   "metadata": {},
   "outputs": [],
   "source": [
    "df.columns = df.columns.str.replace(\" \", \"_\")"
   ]
  },
  {
   "cell_type": "code",
   "execution_count": 9,
   "id": "757b620d-a0b1-4f82-8fb3-123a27f763d7",
   "metadata": {},
   "outputs": [],
   "source": [
    "df.columns = df.columns.str.lower().str.replace(\".0\", \"\")"
   ]
  },
  {
   "cell_type": "code",
   "execution_count": 10,
   "id": "dbb99590-b778-4ecc-b412-0cfe71654f1c",
   "metadata": {},
   "outputs": [
    {
     "data": {
      "text/plain": [
       "price            1.000000\n",
       "sqft_living      0.700673\n",
       "sqft_above       0.603899\n",
       "sqft_living15    0.585329\n",
       "view             0.394476\n",
       "lat              0.306950\n",
       "waterfront       0.263315\n",
       "floors           0.259331\n",
       "yr_renovated     0.119919\n",
       "sqft_lot         0.088113\n",
       "sqft_lot15       0.080797\n",
       "yr_built         0.049736\n",
       "zipcode          0.049642\n",
       "id               0.019255\n",
       "long             0.018177\n",
       "date             0.009518\n",
       "Name: price, dtype: float64"
      ]
     },
     "execution_count": 10,
     "metadata": {},
     "output_type": "execute_result"
    }
   ],
   "source": [
    "df_corr_price = df.corr()['price'].map(abs).sort_values(ascending=False)\n",
    "df_corr_price"
   ]
  },
  {
   "cell_type": "code",
   "execution_count": 11,
   "id": "43f70618-16b6-47bb-a06b-406f4ff8e566",
   "metadata": {},
   "outputs": [
    {
     "data": {
      "image/png": "[encoded data removed]",
      "text/plain": [
       "<Figure size 360x360 with 1 Axes>"
      ]
     },
     "metadata": {
      "needs_background": "light"
     },
     "output_type": "display_data"
    }
   ],
   "source": [
    "sns.lmplot(x='sqft_living', y='price', data=df, line_kws={'color': 'red'})\n",
    "plt.show();"
   ]
  },
  {
   "cell_type": "code",
   "execution_count": 12,
   "id": "a2b1c62c-8cbc-4fee-9a8f-d7af78350153",
   "metadata": {},
   "outputs": [
    {
     "data": {
      "image/png": "[encoded data removed]",
      "text/plain": [
       "<Figure size 360x360 with 1 Axes>"
      ]
     },
     "metadata": {
      "needs_background": "light"
     },
     "output_type": "display_data"
    }
   ],
   "source": [
    "sns.lmplot(x='sqft_living15', y='price', data=df, line_kws={'color': 'red'})\n",
    "plt.show();"
   ]
  },
  {
   "cell_type": "code",
   "execution_count": 13,
   "id": "e2d2913d-4b37-49d4-8844-ed4c392d52e5",
   "metadata": {},
   "outputs": [
    {
     "name": "stdout",
     "output_type": "stream",
     "text": [
      "<class 'pandas.core.frame.DataFrame'>\n",
      "Int64Index: 21234 entries, 0 to 21233\n",
      "Data columns (total 24 columns):\n",
      " #   Column           Non-Null Count  Dtype  \n",
      "---  ------           --------------  -----  \n",
      " 0   id               21234 non-null  int64  \n",
      " 1   date             21234 non-null  int64  \n",
      " 2   price            21234 non-null  float64\n",
      " 3   bedrooms         21234 non-null  object \n",
      " 4   bathrooms        21234 non-null  object \n",
      " 5   sqft_living      21234 non-null  int64  \n",
      " 6   sqft_lot         21234 non-null  int64  \n",
      " 7   floors           21234 non-null  float64\n",
      " 8   waterfront       21234 non-null  float64\n",
      " 9   view             21234 non-null  float64\n",
      " 10  condition        21234 non-null  object \n",
      " 11  grade            21234 non-null  object \n",
      " 12  sqft_above       21234 non-null  int64  \n",
      " 13  sqft_basement    21234 non-null  object \n",
      " 14  yr_built         21234 non-null  int64  \n",
      " 15  yr_renovated     21234 non-null  float64\n",
      " 16  zipcode          21234 non-null  int64  \n",
      " 17  lat              21234 non-null  float64\n",
      " 18  long             21234 non-null  float64\n",
      " 19  sqft_living15    21234 non-null  int64  \n",
      " 20  sqft_lot15       21234 non-null  int64  \n",
      " 21  coordinates      21234 non-null  object \n",
      " 22  school_district  21234 non-null  object \n",
      " 23  state_rank       21234 non-null  object \n",
      "dtypes: float64(7), int64(9), object(8)\n",
      "memory usage: 4.1+ MB\n"
     ]
    }
   ],
   "source": [
    "df.info()"
   ]
  },
  {
   "cell_type": "code",
   "execution_count": 14,
   "id": "af16fa5d-a586-48d5-a05c-482a3c504621",
   "metadata": {},
   "outputs": [],
   "source": [
    "dropped_columns = ['school_district', 'coordinates',\n",
    "                  'sqft_lot', 'sqft_lot15', 'sqft_living15', 'long', 'zipcode', 'yr_renovated',\n",
    "                  'yr_built', 'sqft_basement', 'grade', 'condition', 'view', 'floors',\n",
    "                  'bedrooms', 'id', 'date', 'price']"
   ]
  },
  {
   "cell_type": "code",
   "execution_count": 15,
   "id": "8d7292ff-cd4a-4309-89be-12b771cfb6f7",
   "metadata": {},
   "outputs": [
    {
     "data": {
      "text/html": [
       "<table class=\"simpletable\">\n",
       "<caption>OLS Regression Results</caption>\n",
       "<tr>\n",
       "  <th>Dep. Variable:</th>          <td>price</td>      <th>  R-squared:         </th>  <td>   0.615</td>  \n",
       "</tr>\n",
       "<tr>\n",
       "  <th>Model:</th>                   <td>OLS</td>       <th>  Adj. R-squared:    </th>  <td>   0.614</td>  \n",
       "</tr>\n",
       "<tr>\n",
       "  <th>Method:</th>             <td>Least Squares</td>  <th>  F-statistic:       </th>  <td>   4231.</td>  \n",
       "</tr>\n",
       "<tr>\n",
       "  <th>Date:</th>             <td>Thu, 01 Jul 2021</td> <th>  Prob (F-statistic):</th>   <td>  0.00</td>   \n",
       "</tr>\n",
       "<tr>\n",
       "  <th>Time:</th>                 <td>21:42:41</td>     <th>  Log-Likelihood:    </th> <td>-2.9207e+05</td>\n",
       "</tr>\n",
       "<tr>\n",
       "  <th>No. Observations:</th>      <td> 21234</td>      <th>  AIC:               </th>  <td>5.842e+05</td> \n",
       "</tr>\n",
       "<tr>\n",
       "  <th>Df Residuals:</th>          <td> 21225</td>      <th>  BIC:               </th>  <td>5.842e+05</td> \n",
       "</tr>\n",
       "<tr>\n",
       "  <th>Df Model:</th>              <td>     8</td>      <th>                     </th>      <td> </td>     \n",
       "</tr>\n",
       "<tr>\n",
       "  <th>Covariance Type:</th>      <td>nonrobust</td>    <th>                     </th>      <td> </td>     \n",
       "</tr>\n",
       "</table>\n",
       "<table class=\"simpletable\">\n",
       "<tr>\n",
       "             <td></td>               <th>coef</th>     <th>std err</th>      <th>t</th>      <th>P>|t|</th>  <th>[0.025</th>    <th>0.975]</th>  \n",
       "</tr>\n",
       "<tr>\n",
       "  <th>Intercept</th>              <td>-3.413e+07</td> <td>  5.4e+05</td> <td>  -63.217</td> <td> 0.000</td> <td>-3.52e+07</td> <td>-3.31e+07</td>\n",
       "</tr>\n",
       "<tr>\n",
       "  <th>bathrooms[T.many]</th>      <td> 9.381e+05</td> <td> 5.32e+04</td> <td>   17.632</td> <td> 0.000</td> <td> 8.34e+05</td> <td> 1.04e+06</td>\n",
       "</tr>\n",
       "<tr>\n",
       "  <th>bathrooms[T.minimal]</th>   <td>-1.034e+05</td> <td> 5659.605</td> <td>  -18.265</td> <td> 0.000</td> <td>-1.14e+05</td> <td>-9.23e+04</td>\n",
       "</tr>\n",
       "<tr>\n",
       "  <th>state_rank[T.51-above]</th> <td> -922.5169</td> <td> 4139.621</td> <td>   -0.223</td> <td> 0.824</td> <td>-9036.488</td> <td> 7191.454</td>\n",
       "</tr>\n",
       "<tr>\n",
       "  <th>state_rank[T.Top_ten]</th>  <td>  128.0513</td> <td> 3541.303</td> <td>    0.036</td> <td> 0.971</td> <td>-6813.171</td> <td> 7069.274</td>\n",
       "</tr>\n",
       "<tr>\n",
       "  <th>sqft_living</th>            <td>  228.7270</td> <td>    3.752</td> <td>   60.954</td> <td> 0.000</td> <td>  221.372</td> <td>  236.082</td>\n",
       "</tr>\n",
       "<tr>\n",
       "  <th>waterfront</th>             <td> 8.728e+05</td> <td> 1.91e+04</td> <td>   45.680</td> <td> 0.000</td> <td> 8.35e+05</td> <td>  9.1e+05</td>\n",
       "</tr>\n",
       "<tr>\n",
       "  <th>sqft_above</th>             <td>   16.4125</td> <td>    3.939</td> <td>    4.166</td> <td> 0.000</td> <td>    8.691</td> <td>   24.134</td>\n",
       "</tr>\n",
       "<tr>\n",
       "  <th>lat</th>                    <td> 7.201e+05</td> <td> 1.13e+04</td> <td>   63.472</td> <td> 0.000</td> <td> 6.98e+05</td> <td> 7.42e+05</td>\n",
       "</tr>\n",
       "</table>\n",
       "<table class=\"simpletable\">\n",
       "<tr>\n",
       "  <th>Omnibus:</th>       <td>13746.579</td> <th>  Durbin-Watson:     </th>  <td>   1.993</td> \n",
       "</tr>\n",
       "<tr>\n",
       "  <th>Prob(Omnibus):</th>  <td> 0.000</td>   <th>  Jarque-Bera (JB):  </th> <td>523323.418</td>\n",
       "</tr>\n",
       "<tr>\n",
       "  <th>Skew:</th>           <td> 2.571</td>   <th>  Prob(JB):          </th>  <td>    0.00</td> \n",
       "</tr>\n",
       "<tr>\n",
       "  <th>Kurtosis:</th>       <td>26.771</td>   <th>  Cond. No.          </th>  <td>1.03e+06</td> \n",
       "</tr>\n",
       "</table><br/><br/>Notes:<br/>[1] Standard Errors assume that the covariance matrix of the errors is correctly specified.<br/>[2] The condition number is large, 1.03e+06. This might indicate that there are<br/>strong multicollinearity or other numerical problems."
      ],
      "text/plain": [
       "<class 'statsmodels.iolib.summary.Summary'>\n",
       "\"\"\"\n",
       "                            OLS Regression Results                            \n",
       "==============================================================================\n",
       "Dep. Variable:                  price   R-squared:                       0.615\n",
       "Model:                            OLS   Adj. R-squared:                  0.614\n",
       "Method:                 Least Squares   F-statistic:                     4231.\n",
       "Date:                Thu, 01 Jul 2021   Prob (F-statistic):               0.00\n",
       "Time:                        21:42:41   Log-Likelihood:            -2.9207e+05\n",
       "No. Observations:               21234   AIC:                         5.842e+05\n",
       "Df Residuals:                   21225   BIC:                         5.842e+05\n",
       "Df Model:                           8                                         \n",
       "Covariance Type:            nonrobust                                         \n",
       "==========================================================================================\n",
       "                             coef    std err          t      P>|t|      [0.025      0.975]\n",
       "------------------------------------------------------------------------------------------\n",
       "Intercept              -3.413e+07    5.4e+05    -63.217      0.000   -3.52e+07   -3.31e+07\n",
       "bathrooms[T.many]       9.381e+05   5.32e+04     17.632      0.000    8.34e+05    1.04e+06\n",
       "bathrooms[T.minimal]   -1.034e+05   5659.605    -18.265      0.000   -1.14e+05   -9.23e+04\n",
       "state_rank[T.51-above]  -922.5169   4139.621     -0.223      0.824   -9036.488    7191.454\n",
       "state_rank[T.Top_ten]    128.0513   3541.303      0.036      0.971   -6813.171    7069.274\n",
       "sqft_living              228.7270      3.752     60.954      0.000     221.372     236.082\n",
       "waterfront              8.728e+05   1.91e+04     45.680      0.000    8.35e+05     9.1e+05\n",
       "sqft_above                16.4125      3.939      4.166      0.000       8.691      24.134\n",
       "lat                     7.201e+05   1.13e+04     63.472      0.000    6.98e+05    7.42e+05\n",
       "==============================================================================\n",
       "Omnibus:                    13746.579   Durbin-Watson:                   1.993\n",
       "Prob(Omnibus):                  0.000   Jarque-Bera (JB):           523323.418\n",
       "Skew:                           2.571   Prob(JB):                         0.00\n",
       "Kurtosis:                      26.771   Cond. No.                     1.03e+06\n",
       "==============================================================================\n",
       "\n",
       "Notes:\n",
       "[1] Standard Errors assume that the covariance matrix of the errors is correctly specified.\n",
       "[2] The condition number is large, 1.03e+06. This might indicate that there are\n",
       "strong multicollinearity or other numerical problems.\n",
       "\"\"\""
      ]
     },
     "execution_count": 15,
     "metadata": {},
     "output_type": "execute_result"
    }
   ],
   "source": [
    "import statsmodels.api as sm\n",
    "from statsmodels.formula.api import ols\n",
    "predictors = df.drop(columns=dropped_columns)\n",
    "predict= '+'.join(predictors)\n",
    "f = 'price ~' + predict\n",
    "model_df = ols(formula=f, data=df).fit()\n",
    "model_df.summary()"
   ]
  },
  {
   "cell_type": "code",
   "execution_count": 16,
   "id": "e17760b6-a11a-4718-aa20-d2f853c2b8c9",
   "metadata": {},
   "outputs": [],
   "source": [
    "dropped_columns_new = ['school_district', 'coordinates',\n",
    "                  'sqft_lot', 'sqft_lot15', 'long', 'zipcode', 'yr_renovated',\n",
    "                  'yr_built', 'view', 'floors', 'id', 'date']"
   ]
  },
  {
   "cell_type": "code",
   "execution_count": 17,
   "id": "1245801f-ddf7-43a3-9b4d-3951029ac301",
   "metadata": {},
   "outputs": [],
   "source": [
    "df = df.drop(columns=dropped_columns_new)"
   ]
  },
  {
   "cell_type": "code",
   "execution_count": 18,
   "id": "657cce91-6706-4948-aef5-9bf14e408f29",
   "metadata": {},
   "outputs": [
    {
     "data": {
      "text/html": [
       "<div>\n",
       "<style scoped>\n",
       "    .dataframe tbody tr th:only-of-type {\n",
       "        vertical-align: middle;\n",
       "    }\n",
       "\n",
       "    .dataframe tbody tr th {\n",
       "        vertical-align: top;\n",
       "    }\n",
       "\n",
       "    .dataframe thead th {\n",
       "        text-align: right;\n",
       "    }\n",
       "</style>\n",
       "<table border=\"1\" class=\"dataframe\">\n",
       "  <thead>\n",
       "    <tr style=\"text-align: right;\">\n",
       "      <th></th>\n",
       "      <th>price</th>\n",
       "      <th>bedrooms</th>\n",
       "      <th>bathrooms</th>\n",
       "      <th>sqft_living</th>\n",
       "      <th>waterfront</th>\n",
       "      <th>condition</th>\n",
       "      <th>grade</th>\n",
       "      <th>sqft_above</th>\n",
       "      <th>sqft_basement</th>\n",
       "      <th>lat</th>\n",
       "      <th>sqft_living15</th>\n",
       "      <th>state_rank</th>\n",
       "    </tr>\n",
       "  </thead>\n",
       "  <tbody>\n",
       "    <tr>\n",
       "      <th>0</th>\n",
       "      <td>221900.0</td>\n",
       "      <td>small</td>\n",
       "      <td>minimal</td>\n",
       "      <td>1180</td>\n",
       "      <td>0.0</td>\n",
       "      <td>good</td>\n",
       "      <td>good</td>\n",
       "      <td>1180</td>\n",
       "      <td>0.0</td>\n",
       "      <td>47.5112</td>\n",
       "      <td>1340</td>\n",
       "      <td>11-50</td>\n",
       "    </tr>\n",
       "    <tr>\n",
       "      <th>1</th>\n",
       "      <td>538000.0</td>\n",
       "      <td>small</td>\n",
       "      <td>minimal</td>\n",
       "      <td>2570</td>\n",
       "      <td>0.0</td>\n",
       "      <td>good</td>\n",
       "      <td>good</td>\n",
       "      <td>2170</td>\n",
       "      <td>400.0</td>\n",
       "      <td>47.7210</td>\n",
       "      <td>1690</td>\n",
       "      <td>11-50</td>\n",
       "    </tr>\n",
       "    <tr>\n",
       "      <th>2</th>\n",
       "      <td>180000.0</td>\n",
       "      <td>small</td>\n",
       "      <td>minimal</td>\n",
       "      <td>770</td>\n",
       "      <td>0.0</td>\n",
       "      <td>good</td>\n",
       "      <td>bad</td>\n",
       "      <td>770</td>\n",
       "      <td>0.0</td>\n",
       "      <td>47.7379</td>\n",
       "      <td>2720</td>\n",
       "      <td>Top_ten</td>\n",
       "    </tr>\n",
       "    <tr>\n",
       "      <th>3</th>\n",
       "      <td>604000.0</td>\n",
       "      <td>small</td>\n",
       "      <td>average</td>\n",
       "      <td>1960</td>\n",
       "      <td>0.0</td>\n",
       "      <td>very_good</td>\n",
       "      <td>good</td>\n",
       "      <td>1050</td>\n",
       "      <td>910.0</td>\n",
       "      <td>47.5208</td>\n",
       "      <td>1360</td>\n",
       "      <td>11-50</td>\n",
       "    </tr>\n",
       "    <tr>\n",
       "      <th>4</th>\n",
       "      <td>510000.0</td>\n",
       "      <td>small</td>\n",
       "      <td>minimal</td>\n",
       "      <td>1680</td>\n",
       "      <td>0.0</td>\n",
       "      <td>good</td>\n",
       "      <td>good</td>\n",
       "      <td>1680</td>\n",
       "      <td>0.0</td>\n",
       "      <td>47.6168</td>\n",
       "      <td>1800</td>\n",
       "      <td>Top_ten</td>\n",
       "    </tr>\n",
       "  </tbody>\n",
       "</table>\n",
       "</div>"
      ],
      "text/plain": [
       "      price bedrooms bathrooms  sqft_living  waterfront  condition grade  \\\n",
       "0  221900.0    small   minimal         1180         0.0       good  good   \n",
       "1  538000.0    small   minimal         2570         0.0       good  good   \n",
       "2  180000.0    small   minimal          770         0.0       good   bad   \n",
       "3  604000.0    small   average         1960         0.0  very_good  good   \n",
       "4  510000.0    small   minimal         1680         0.0       good  good   \n",
       "\n",
       "   sqft_above sqft_basement      lat  sqft_living15 state_rank  \n",
       "0        1180           0.0  47.5112           1340      11-50  \n",
       "1        2170         400.0  47.7210           1690      11-50  \n",
       "2         770           0.0  47.7379           2720    Top_ten  \n",
       "3        1050         910.0  47.5208           1360      11-50  \n",
       "4        1680           0.0  47.6168           1800    Top_ten  "
      ]
     },
     "execution_count": 18,
     "metadata": {},
     "output_type": "execute_result"
    }
   ],
   "source": [
    "df.head()"
   ]
  },
  {
   "cell_type": "code",
   "execution_count": 19,
   "id": "1b0c59e3-07d3-4721-a9fa-b522154cce75",
   "metadata": {},
   "outputs": [],
   "source": [
    "df[\"sqft_basement\"] = df[\"sqft_basement\"].replace(\"0.0\", np.nan)\n",
    "df[\"sqft_basement\"] = df[\"sqft_basement\"].replace(\"?\", np.nan)\n",
    "df[\"sqft_basement\"] = df[\"sqft_basement\"].fillna(0.0)\n",
    "df[\"sqft_basement\"] = df[\"sqft_basement\"].map(lambda x: float(x))"
   ]
  },
  {
   "cell_type": "code",
   "execution_count": 20,
   "id": "8279dff2-ee31-4821-824a-149a53f7ff41",
   "metadata": {},
   "outputs": [
    {
     "name": "stderr",
     "output_type": "stream",
     "text": [
      "C:\\Users\\Catherine\\anaconda3\\envs\\learn-env\\lib\\site-packages\\pandas\\core\\indexing.py:670: SettingWithCopyWarning: \n",
      "A value is trying to be set on a copy of a slice from a DataFrame\n",
      "\n",
      "See the caveats in the documentation: https://pandas.pydata.org/pandas-docs/stable/user_guide/indexing.html#returning-a-view-versus-a-copy\n",
      "  iloc._setitem_with_indexer(indexer, value)\n"
     ]
    }
   ],
   "source": [
    "while df[\"sqft_basement\"].loc[df[\"sqft_basement\"] == 0].count() > 0:\n",
    "    for i in range(0, len(df)):\n",
    "        if df[\"sqft_basement\"].iloc[i] == 0:\n",
    "            df[\"sqft_basement\"].iloc[i] = 0.1"
   ]
  },
  {
   "cell_type": "markdown",
   "id": "2ef031c0-2ac3-4ef7-8a3f-d0aa59cda62b",
   "metadata": {},
   "source": [
    "## Lower Price Model"
   ]
  },
  {
   "cell_type": "code",
   "execution_count": 32,
   "id": "65ae9577-c9ff-4b32-b607-4627c86f4379",
   "metadata": {},
   "outputs": [
    {
     "data": {
      "text/html": [
       "<div>\n",
       "<style scoped>\n",
       "    .dataframe tbody tr th:only-of-type {\n",
       "        vertical-align: middle;\n",
       "    }\n",
       "\n",
       "    .dataframe tbody tr th {\n",
       "        vertical-align: top;\n",
       "    }\n",
       "\n",
       "    .dataframe thead th {\n",
       "        text-align: right;\n",
       "    }\n",
       "</style>\n",
       "<table border=\"1\" class=\"dataframe\">\n",
       "  <thead>\n",
       "    <tr style=\"text-align: right;\">\n",
       "      <th></th>\n",
       "      <th>price</th>\n",
       "      <th>bedrooms</th>\n",
       "      <th>bathrooms</th>\n",
       "      <th>sqft_living</th>\n",
       "      <th>waterfront</th>\n",
       "      <th>condition</th>\n",
       "      <th>grade</th>\n",
       "      <th>sqft_above</th>\n",
       "      <th>sqft_basement</th>\n",
       "      <th>lat</th>\n",
       "      <th>sqft_living15</th>\n",
       "      <th>state_rank</th>\n",
       "    </tr>\n",
       "  </thead>\n",
       "  <tbody>\n",
       "    <tr>\n",
       "      <th>0</th>\n",
       "      <td>221900.0</td>\n",
       "      <td>small</td>\n",
       "      <td>minimal</td>\n",
       "      <td>1180</td>\n",
       "      <td>0.0</td>\n",
       "      <td>good</td>\n",
       "      <td>good</td>\n",
       "      <td>1180</td>\n",
       "      <td>0.1</td>\n",
       "      <td>47.5112</td>\n",
       "      <td>1340</td>\n",
       "      <td>11-50</td>\n",
       "    </tr>\n",
       "    <tr>\n",
       "      <th>2</th>\n",
       "      <td>180000.0</td>\n",
       "      <td>small</td>\n",
       "      <td>minimal</td>\n",
       "      <td>770</td>\n",
       "      <td>0.0</td>\n",
       "      <td>good</td>\n",
       "      <td>bad</td>\n",
       "      <td>770</td>\n",
       "      <td>0.1</td>\n",
       "      <td>47.7379</td>\n",
       "      <td>2720</td>\n",
       "      <td>Top_ten</td>\n",
       "    </tr>\n",
       "    <tr>\n",
       "      <th>6</th>\n",
       "      <td>257500.0</td>\n",
       "      <td>small</td>\n",
       "      <td>minimal</td>\n",
       "      <td>1715</td>\n",
       "      <td>0.0</td>\n",
       "      <td>good</td>\n",
       "      <td>good</td>\n",
       "      <td>1715</td>\n",
       "      <td>0.1</td>\n",
       "      <td>47.3097</td>\n",
       "      <td>2238</td>\n",
       "      <td>51-above</td>\n",
       "    </tr>\n",
       "    <tr>\n",
       "      <th>7</th>\n",
       "      <td>291850.0</td>\n",
       "      <td>small</td>\n",
       "      <td>minimal</td>\n",
       "      <td>1060</td>\n",
       "      <td>0.0</td>\n",
       "      <td>good</td>\n",
       "      <td>good</td>\n",
       "      <td>1060</td>\n",
       "      <td>0.1</td>\n",
       "      <td>47.4095</td>\n",
       "      <td>1650</td>\n",
       "      <td>51-above</td>\n",
       "    </tr>\n",
       "    <tr>\n",
       "      <th>8</th>\n",
       "      <td>229500.0</td>\n",
       "      <td>small</td>\n",
       "      <td>minimal</td>\n",
       "      <td>1780</td>\n",
       "      <td>0.0</td>\n",
       "      <td>good</td>\n",
       "      <td>good</td>\n",
       "      <td>1050</td>\n",
       "      <td>730.0</td>\n",
       "      <td>47.5123</td>\n",
       "      <td>1780</td>\n",
       "      <td>51-above</td>\n",
       "    </tr>\n",
       "    <tr>\n",
       "      <th>...</th>\n",
       "      <td>...</td>\n",
       "      <td>...</td>\n",
       "      <td>...</td>\n",
       "      <td>...</td>\n",
       "      <td>...</td>\n",
       "      <td>...</td>\n",
       "      <td>...</td>\n",
       "      <td>...</td>\n",
       "      <td>...</td>\n",
       "      <td>...</td>\n",
       "      <td>...</td>\n",
       "      <td>...</td>\n",
       "    </tr>\n",
       "    <tr>\n",
       "      <th>21168</th>\n",
       "      <td>295000.0</td>\n",
       "      <td>small</td>\n",
       "      <td>minimal</td>\n",
       "      <td>1230</td>\n",
       "      <td>0.0</td>\n",
       "      <td>good</td>\n",
       "      <td>good</td>\n",
       "      <td>1230</td>\n",
       "      <td>0.1</td>\n",
       "      <td>47.4380</td>\n",
       "      <td>1440</td>\n",
       "      <td>51-above</td>\n",
       "    </tr>\n",
       "    <tr>\n",
       "      <th>21195</th>\n",
       "      <td>274800.0</td>\n",
       "      <td>small</td>\n",
       "      <td>minimal</td>\n",
       "      <td>1410</td>\n",
       "      <td>0.0</td>\n",
       "      <td>good</td>\n",
       "      <td>good</td>\n",
       "      <td>1410</td>\n",
       "      <td>0.1</td>\n",
       "      <td>47.5171</td>\n",
       "      <td>1410</td>\n",
       "      <td>11-50</td>\n",
       "    </tr>\n",
       "    <tr>\n",
       "      <th>21199</th>\n",
       "      <td>269950.0</td>\n",
       "      <td>small</td>\n",
       "      <td>minimal</td>\n",
       "      <td>2244</td>\n",
       "      <td>0.0</td>\n",
       "      <td>good</td>\n",
       "      <td>good</td>\n",
       "      <td>2244</td>\n",
       "      <td>0.1</td>\n",
       "      <td>47.2606</td>\n",
       "      <td>2077</td>\n",
       "      <td>11-50</td>\n",
       "    </tr>\n",
       "    <tr>\n",
       "      <th>21219</th>\n",
       "      <td>288790.0</td>\n",
       "      <td>small</td>\n",
       "      <td>minimal</td>\n",
       "      <td>1290</td>\n",
       "      <td>0.0</td>\n",
       "      <td>good</td>\n",
       "      <td>good</td>\n",
       "      <td>1060</td>\n",
       "      <td>230.0</td>\n",
       "      <td>47.5400</td>\n",
       "      <td>1370</td>\n",
       "      <td>51-above</td>\n",
       "    </tr>\n",
       "    <tr>\n",
       "      <th>21228</th>\n",
       "      <td>299950.0</td>\n",
       "      <td>small</td>\n",
       "      <td>minimal</td>\n",
       "      <td>1740</td>\n",
       "      <td>0.0</td>\n",
       "      <td>good</td>\n",
       "      <td>good</td>\n",
       "      <td>1740</td>\n",
       "      <td>0.1</td>\n",
       "      <td>47.3697</td>\n",
       "      <td>1950</td>\n",
       "      <td>11-50</td>\n",
       "    </tr>\n",
       "  </tbody>\n",
       "</table>\n",
       "<p>4374 rows × 12 columns</p>\n",
       "</div>"
      ],
      "text/plain": [
       "          price bedrooms bathrooms  sqft_living  waterfront condition grade  \\\n",
       "0      221900.0    small   minimal         1180         0.0      good  good   \n",
       "2      180000.0    small   minimal          770         0.0      good   bad   \n",
       "6      257500.0    small   minimal         1715         0.0      good  good   \n",
       "7      291850.0    small   minimal         1060         0.0      good  good   \n",
       "8      229500.0    small   minimal         1780         0.0      good  good   \n",
       "...         ...      ...       ...          ...         ...       ...   ...   \n",
       "21168  295000.0    small   minimal         1230         0.0      good  good   \n",
       "21195  274800.0    small   minimal         1410         0.0      good  good   \n",
       "21199  269950.0    small   minimal         2244         0.0      good  good   \n",
       "21219  288790.0    small   minimal         1290         0.0      good  good   \n",
       "21228  299950.0    small   minimal         1740         0.0      good  good   \n",
       "\n",
       "       sqft_above  sqft_basement      lat  sqft_living15 state_rank  \n",
       "0            1180            0.1  47.5112           1340      11-50  \n",
       "2             770            0.1  47.7379           2720    Top_ten  \n",
       "6            1715            0.1  47.3097           2238   51-above  \n",
       "7            1060            0.1  47.4095           1650   51-above  \n",
       "8            1050          730.0  47.5123           1780   51-above  \n",
       "...           ...            ...      ...            ...        ...  \n",
       "21168        1230            0.1  47.4380           1440   51-above  \n",
       "21195        1410            0.1  47.5171           1410      11-50  \n",
       "21199        2244            0.1  47.2606           2077      11-50  \n",
       "21219        1060          230.0  47.5400           1370   51-above  \n",
       "21228        1740            0.1  47.3697           1950      11-50  \n",
       "\n",
       "[4374 rows x 12 columns]"
      ]
     },
     "execution_count": 32,
     "metadata": {},
     "output_type": "execute_result"
    }
   ],
   "source": [
    "df_low_price_pre = df.loc[df['price']< 300000]\n",
    "df_low_price_pre"
   ]
  },
  {
   "cell_type": "code",
   "execution_count": 36,
   "id": "0f2885ae-2421-483b-9f1c-a9d3bd55ba11",
   "metadata": {},
   "outputs": [
    {
     "name": "stdout",
     "output_type": "stream",
     "text": [
      "<class 'pandas.core.frame.DataFrame'>\n",
      "Int64Index: 4374 entries, 0 to 21228\n",
      "Data columns (total 12 columns):\n",
      " #   Column         Non-Null Count  Dtype  \n",
      "---  ------         --------------  -----  \n",
      " 0   price          4374 non-null   float64\n",
      " 1   bedrooms       4374 non-null   object \n",
      " 2   bathrooms      4374 non-null   object \n",
      " 3   sqft_living    4374 non-null   int64  \n",
      " 4   waterfront     4374 non-null   float64\n",
      " 5   condition      4374 non-null   object \n",
      " 6   grade          4374 non-null   object \n",
      " 7   sqft_above     4374 non-null   int64  \n",
      " 8   sqft_basement  4374 non-null   float64\n",
      " 9   lat            4374 non-null   float64\n",
      " 10  sqft_living15  4374 non-null   int64  \n",
      " 11  state_rank     4374 non-null   object \n",
      "dtypes: float64(4), int64(3), object(5)\n",
      "memory usage: 604.2+ KB\n"
     ]
    }
   ],
   "source": [
    "df_low_price_pre.info()"
   ]
  },
  {
   "cell_type": "code",
   "execution_count": 62,
   "id": "fae424ac-d8da-4f04-a89a-d8bdd4a02af3",
   "metadata": {},
   "outputs": [
    {
     "name": "stdout",
     "output_type": "stream",
     "text": [
      "<class 'pandas.core.frame.DataFrame'>\n",
      "Int64Index: 4374 entries, 0 to 21228\n",
      "Data columns (total 12 columns):\n",
      " #   Column         Non-Null Count  Dtype   \n",
      "---  ------         --------------  -----   \n",
      " 0   price          4374 non-null   float64 \n",
      " 1   bedrooms       4374 non-null   category\n",
      " 2   bathrooms      4374 non-null   category\n",
      " 3   sqft_living    4374 non-null   int64   \n",
      " 4   waterfront     4374 non-null   float64 \n",
      " 5   condition      4374 non-null   category\n",
      " 6   grade          4374 non-null   category\n",
      " 7   sqft_above     4374 non-null   int64   \n",
      " 8   sqft_basement  4374 non-null   float64 \n",
      " 9   lat            4374 non-null   float64 \n",
      " 10  sqft_living15  4374 non-null   int64   \n",
      " 11  state_rank     4374 non-null   category\n",
      "dtypes: category(5), float64(4), int64(3)\n",
      "memory usage: 455.2 KB\n"
     ]
    }
   ],
   "source": [
    "df_low_price_pre[['bedrooms',\"grade\",'condition',\"bathrooms\",\"state_rank\"]]=df_low_price_pre[['bedrooms',\"grade\",'condition',\"bathrooms\",\"state_rank\"]].astype('category').copy()\n",
    "df_low_price_pre.info()"
   ]
  },
  {
   "cell_type": "code",
   "execution_count": 60,
   "id": "6871224d-110e-46f3-bb3f-3ad823a25eea",
   "metadata": {},
   "outputs": [
    {
     "name": "stdout",
     "output_type": "stream",
     "text": [
      "<class 'pandas.core.frame.DataFrame'>\n",
      "Int64Index: 4374 entries, 0 to 21228\n",
      "Data columns (total 12 columns):\n",
      " #   Column         Non-Null Count  Dtype  \n",
      "---  ------         --------------  -----  \n",
      " 0   price          4374 non-null   float64\n",
      " 1   bedrooms       4374 non-null   object \n",
      " 2   bathrooms      4374 non-null   object \n",
      " 3   sqft_living    4374 non-null   int64  \n",
      " 4   waterfront     4374 non-null   float64\n",
      " 5   condition      4374 non-null   object \n",
      " 6   grade          4374 non-null   object \n",
      " 7   sqft_above     4374 non-null   int64  \n",
      " 8   sqft_basement  4374 non-null   float64\n",
      " 9   lat            4374 non-null   float64\n",
      " 10  sqft_living15  4374 non-null   int64  \n",
      " 11  state_rank     4374 non-null   object \n",
      "dtypes: float64(4), int64(3), object(5)\n",
      "memory usage: 604.2+ KB\n"
     ]
    }
   ],
   "source": [
    "df_low_price_pre.info()"
   ]
  },
  {
   "cell_type": "code",
   "execution_count": 72,
   "id": "f4dfba9f-1d59-48bb-bd5f-1f2c91a80169",
   "metadata": {},
   "outputs": [],
   "source": [
    "continuous = [\"sqft_above\", \"price\",'sqft_living']\n",
    "\n",
    "categorical = ['bedrooms',\"grade\",'condition',\"bathrooms\",\"state_rank\"]\n",
    "\n",
    "df_log = np.log(df_low_price_pre[continuous])\n",
    "df_log.columns = [f\"{column}_log\" for column in df_low_price_pre[continuous]]\n",
    "\n",
    "    \n",
    "df_norm = (np.log(df_low_price_pre[continuous]) - np.mean(np.log(df_low_price_pre[continuous])))/np.std(np.log(df_low_price_pre[continuous]))\n",
    "df_norm.columns = [f\"{column}_log\" for column in df_low_price_pre[continuous]]\n",
    "\n",
    "oe=OrdinalEncoder(categories=[['excessive', 'moderate', 'small'],['very_good',\"good\", \"bad\"],['very_good',\"good\", \"bad\"],['many', 'average','minimal'],['Top_ten','11-50', '51-above']])\n",
    "df_ohe=pd.DataFrame(oe.fit_transform(df_low_price_pre[['bedrooms',\"grade\",'condition',\"bathrooms\",\"state_rank\"]]))\n",
    "\n",
    "# enc = OneHotEncoder(handle_unknown=\"ignore\", sparse=False)\n",
    "# df_ohe=pd.DataFrame(enc.fit_transform(df_low_price_pre[categorical]))\n",
    "# df_ohe.columns =enc.get_feature_names(['bedrooms',\"grade\",'condition',\"bathrooms\",\"state_rank\"])\n",
    "\n",
    "# df_ohe = pd.get_dummies(df_low_price_pre[categorical], columns=categorical, drop_first = True)\n",
    "df_low_price =df_norm.join(df_ohe, how=\"inner\")\n",
    "# df_low_price = pd.concat([df_norm, df_ohe], axis = 1)\n",
    "#df_low_price = pd.concat([df_final1,df_low_price_pre.drop(columns=['price', 'bedrooms', 'bathrooms', 'sqft_living', 'waterfront','condition', 'grade',\n",
    " #      'sqft_above', 'sqft_basement', 'lat', 'sqft_living15'])], axis=1)"
   ]
  },
  {
   "cell_type": "code",
   "execution_count": 73,
   "id": "510ec4f0-c4ce-479e-8eb2-c60eb030f9c9",
   "metadata": {},
   "outputs": [
    {
     "data": {
      "text/plain": [
       "sqft_above_log     0\n",
       "price_log          0\n",
       "sqft_living_log    0\n",
       "dtype: int64"
      ]
     },
     "metadata": {},
     "output_type": "display_data"
    },
    {
     "data": {
      "text/plain": [
       "0    0\n",
       "1    0\n",
       "2    0\n",
       "3    0\n",
       "4    0\n",
       "dtype: int64"
      ]
     },
     "metadata": {},
     "output_type": "display_data"
    },
    {
     "data": {
      "text/plain": [
       "sqft_above_log     0\n",
       "price_log          0\n",
       "sqft_living_log    0\n",
       "0                  0\n",
       "1                  0\n",
       "2                  0\n",
       "3                  0\n",
       "4                  0\n",
       "dtype: int64"
      ]
     },
     "metadata": {},
     "output_type": "display_data"
    }
   ],
   "source": [
    "display(df_norm.isna().sum(),df_ohe.isna().sum(),df_low_price.isna().sum())"
   ]
  },
  {
   "cell_type": "code",
   "execution_count": 74,
   "id": "085a1f88-f4e9-4c09-a6cc-ddf53ac864ba",
   "metadata": {},
   "outputs": [
    {
     "data": {
      "text/html": [
       "<div>\n",
       "<style scoped>\n",
       "    .dataframe tbody tr th:only-of-type {\n",
       "        vertical-align: middle;\n",
       "    }\n",
       "\n",
       "    .dataframe tbody tr th {\n",
       "        vertical-align: top;\n",
       "    }\n",
       "\n",
       "    .dataframe thead th {\n",
       "        text-align: right;\n",
       "    }\n",
       "</style>\n",
       "<table border=\"1\" class=\"dataframe\">\n",
       "  <thead>\n",
       "    <tr style=\"text-align: right;\">\n",
       "      <th></th>\n",
       "      <th>sqft_above_log</th>\n",
       "      <th>price_log</th>\n",
       "      <th>sqft_living_log</th>\n",
       "      <th>0</th>\n",
       "      <th>1</th>\n",
       "      <th>2</th>\n",
       "      <th>3</th>\n",
       "      <th>4</th>\n",
       "    </tr>\n",
       "  </thead>\n",
       "  <tbody>\n",
       "    <tr>\n",
       "      <th>4245</th>\n",
       "      <td>-0.352895</td>\n",
       "      <td>-1.296646</td>\n",
       "      <td>-0.640213</td>\n",
       "      <td>2.0</td>\n",
       "      <td>1.0</td>\n",
       "      <td>1.0</td>\n",
       "      <td>2.0</td>\n",
       "      <td>0.0</td>\n",
       "    </tr>\n",
       "    <tr>\n",
       "      <th>4246</th>\n",
       "      <td>-0.414128</td>\n",
       "      <td>-0.402234</td>\n",
       "      <td>0.542972</td>\n",
       "      <td>2.0</td>\n",
       "      <td>1.0</td>\n",
       "      <td>1.0</td>\n",
       "      <td>2.0</td>\n",
       "      <td>2.0</td>\n",
       "    </tr>\n",
       "    <tr>\n",
       "      <th>4249</th>\n",
       "      <td>0.152844</td>\n",
       "      <td>-1.165447</td>\n",
       "      <td>-0.169485</td>\n",
       "      <td>2.0</td>\n",
       "      <td>1.0</td>\n",
       "      <td>1.0</td>\n",
       "      <td>2.0</td>\n",
       "      <td>2.0</td>\n",
       "    </tr>\n",
       "    <tr>\n",
       "      <th>4251</th>\n",
       "      <td>-0.147016</td>\n",
       "      <td>-0.914701</td>\n",
       "      <td>-0.448587</td>\n",
       "      <td>2.0</td>\n",
       "      <td>1.0</td>\n",
       "      <td>1.0</td>\n",
       "      <td>2.0</td>\n",
       "      <td>1.0</td>\n",
       "    </tr>\n",
       "    <tr>\n",
       "      <th>4257</th>\n",
       "      <td>-0.949208</td>\n",
       "      <td>-1.921453</td>\n",
       "      <td>-1.195246</td>\n",
       "      <td>2.0</td>\n",
       "      <td>1.0</td>\n",
       "      <td>1.0</td>\n",
       "      <td>2.0</td>\n",
       "      <td>1.0</td>\n",
       "    </tr>\n",
       "    <tr>\n",
       "      <th>4258</th>\n",
       "      <td>0.073699</td>\n",
       "      <td>-0.314933</td>\n",
       "      <td>-0.243151</td>\n",
       "      <td>2.0</td>\n",
       "      <td>1.0</td>\n",
       "      <td>1.0</td>\n",
       "      <td>2.0</td>\n",
       "      <td>1.0</td>\n",
       "    </tr>\n",
       "    <tr>\n",
       "      <th>4260</th>\n",
       "      <td>0.403873</td>\n",
       "      <td>0.274020</td>\n",
       "      <td>1.498615</td>\n",
       "      <td>2.0</td>\n",
       "      <td>1.0</td>\n",
       "      <td>1.0</td>\n",
       "      <td>2.0</td>\n",
       "      <td>0.0</td>\n",
       "    </tr>\n",
       "    <tr>\n",
       "      <th>4273</th>\n",
       "      <td>0.726327</td>\n",
       "      <td>-1.598754</td>\n",
       "      <td>0.364298</td>\n",
       "      <td>2.0</td>\n",
       "      <td>1.0</td>\n",
       "      <td>1.0</td>\n",
       "      <td>2.0</td>\n",
       "      <td>0.0</td>\n",
       "    </tr>\n",
       "    <tr>\n",
       "      <th>4278</th>\n",
       "      <td>-0.476505</td>\n",
       "      <td>0.312061</td>\n",
       "      <td>-0.755267</td>\n",
       "      <td>2.0</td>\n",
       "      <td>1.0</td>\n",
       "      <td>1.0</td>\n",
       "      <td>2.0</td>\n",
       "      <td>1.0</td>\n",
       "    </tr>\n",
       "    <tr>\n",
       "      <th>4287</th>\n",
       "      <td>1.836602</td>\n",
       "      <td>1.006803</td>\n",
       "      <td>1.397712</td>\n",
       "      <td>2.0</td>\n",
       "      <td>1.0</td>\n",
       "      <td>1.0</td>\n",
       "      <td>2.0</td>\n",
       "      <td>0.0</td>\n",
       "    </tr>\n",
       "    <tr>\n",
       "      <th>4290</th>\n",
       "      <td>-1.174267</td>\n",
       "      <td>-0.145014</td>\n",
       "      <td>-1.404725</td>\n",
       "      <td>2.0</td>\n",
       "      <td>1.0</td>\n",
       "      <td>1.0</td>\n",
       "      <td>2.0</td>\n",
       "      <td>1.0</td>\n",
       "    </tr>\n",
       "    <tr>\n",
       "      <th>4293</th>\n",
       "      <td>-0.292765</td>\n",
       "      <td>1.014975</td>\n",
       "      <td>-0.584246</td>\n",
       "      <td>2.0</td>\n",
       "      <td>1.0</td>\n",
       "      <td>1.0</td>\n",
       "      <td>2.0</td>\n",
       "      <td>0.0</td>\n",
       "    </tr>\n",
       "    <tr>\n",
       "      <th>4294</th>\n",
       "      <td>0.305715</td>\n",
       "      <td>0.865668</td>\n",
       "      <td>-0.027196</td>\n",
       "      <td>2.0</td>\n",
       "      <td>1.0</td>\n",
       "      <td>1.0</td>\n",
       "      <td>2.0</td>\n",
       "      <td>1.0</td>\n",
       "    </tr>\n",
       "    <tr>\n",
       "      <th>4302</th>\n",
       "      <td>-0.772601</td>\n",
       "      <td>0.158031</td>\n",
       "      <td>-1.030864</td>\n",
       "      <td>2.0</td>\n",
       "      <td>1.0</td>\n",
       "      <td>1.0</td>\n",
       "      <td>2.0</td>\n",
       "      <td>0.0</td>\n",
       "    </tr>\n",
       "    <tr>\n",
       "      <th>4305</th>\n",
       "      <td>-0.352895</td>\n",
       "      <td>-0.082834</td>\n",
       "      <td>-0.027196</td>\n",
       "      <td>2.0</td>\n",
       "      <td>1.0</td>\n",
       "      <td>1.0</td>\n",
       "      <td>2.0</td>\n",
       "      <td>1.0</td>\n",
       "    </tr>\n",
       "    <tr>\n",
       "      <th>4307</th>\n",
       "      <td>-0.292765</td>\n",
       "      <td>0.126910</td>\n",
       "      <td>-0.584246</td>\n",
       "      <td>2.0</td>\n",
       "      <td>1.0</td>\n",
       "      <td>1.0</td>\n",
       "      <td>2.0</td>\n",
       "      <td>1.0</td>\n",
       "    </tr>\n",
       "    <tr>\n",
       "      <th>4312</th>\n",
       "      <td>-1.767209</td>\n",
       "      <td>0.496898</td>\n",
       "      <td>-0.726101</td>\n",
       "      <td>2.0</td>\n",
       "      <td>1.0</td>\n",
       "      <td>1.0</td>\n",
       "      <td>2.0</td>\n",
       "      <td>0.0</td>\n",
       "    </tr>\n",
       "    <tr>\n",
       "      <th>4332</th>\n",
       "      <td>-0.090454</td>\n",
       "      <td>-1.797584</td>\n",
       "      <td>-0.395940</td>\n",
       "      <td>2.0</td>\n",
       "      <td>1.0</td>\n",
       "      <td>1.0</td>\n",
       "      <td>2.0</td>\n",
       "      <td>0.0</td>\n",
       "    </tr>\n",
       "    <tr>\n",
       "      <th>4333</th>\n",
       "      <td>-0.704494</td>\n",
       "      <td>-0.962807</td>\n",
       "      <td>-0.967472</td>\n",
       "      <td>2.0</td>\n",
       "      <td>2.0</td>\n",
       "      <td>1.0</td>\n",
       "      <td>2.0</td>\n",
       "      <td>0.0</td>\n",
       "    </tr>\n",
       "    <tr>\n",
       "      <th>4334</th>\n",
       "      <td>0.073699</td>\n",
       "      <td>-0.271878</td>\n",
       "      <td>-0.243151</td>\n",
       "      <td>2.0</td>\n",
       "      <td>1.0</td>\n",
       "      <td>1.0</td>\n",
       "      <td>2.0</td>\n",
       "      <td>0.0</td>\n",
       "    </tr>\n",
       "    <tr>\n",
       "      <th>4343</th>\n",
       "      <td>-1.586780</td>\n",
       "      <td>-1.584595</td>\n",
       "      <td>-1.788681</td>\n",
       "      <td>2.0</td>\n",
       "      <td>1.0</td>\n",
       "      <td>0.0</td>\n",
       "      <td>2.0</td>\n",
       "      <td>1.0</td>\n",
       "    </tr>\n",
       "    <tr>\n",
       "      <th>4352</th>\n",
       "      <td>-0.414128</td>\n",
       "      <td>0.118728</td>\n",
       "      <td>0.854759</td>\n",
       "      <td>2.0</td>\n",
       "      <td>1.0</td>\n",
       "      <td>1.0</td>\n",
       "      <td>2.0</td>\n",
       "      <td>2.0</td>\n",
       "    </tr>\n",
       "    <tr>\n",
       "      <th>4358</th>\n",
       "      <td>0.938953</td>\n",
       "      <td>0.311113</td>\n",
       "      <td>0.562205</td>\n",
       "      <td>2.0</td>\n",
       "      <td>1.0</td>\n",
       "      <td>1.0</td>\n",
       "      <td>2.0</td>\n",
       "      <td>1.0</td>\n",
       "    </tr>\n",
       "    <tr>\n",
       "      <th>4363</th>\n",
       "      <td>1.608613</td>\n",
       "      <td>0.019020</td>\n",
       "      <td>1.185507</td>\n",
       "      <td>2.0</td>\n",
       "      <td>1.0</td>\n",
       "      <td>1.0</td>\n",
       "      <td>2.0</td>\n",
       "      <td>0.0</td>\n",
       "    </tr>\n",
       "    <tr>\n",
       "      <th>4367</th>\n",
       "      <td>1.309041</td>\n",
       "      <td>0.676547</td>\n",
       "      <td>0.906673</td>\n",
       "      <td>2.0</td>\n",
       "      <td>1.0</td>\n",
       "      <td>1.0</td>\n",
       "      <td>2.0</td>\n",
       "      <td>1.0</td>\n",
       "    </tr>\n",
       "  </tbody>\n",
       "</table>\n",
       "</div>"
      ],
      "text/plain": [
       "      sqft_above_log  price_log  sqft_living_log    0    1    2    3    4\n",
       "4245       -0.352895  -1.296646        -0.640213  2.0  1.0  1.0  2.0  0.0\n",
       "4246       -0.414128  -0.402234         0.542972  2.0  1.0  1.0  2.0  2.0\n",
       "4249        0.152844  -1.165447        -0.169485  2.0  1.0  1.0  2.0  2.0\n",
       "4251       -0.147016  -0.914701        -0.448587  2.0  1.0  1.0  2.0  1.0\n",
       "4257       -0.949208  -1.921453        -1.195246  2.0  1.0  1.0  2.0  1.0\n",
       "4258        0.073699  -0.314933        -0.243151  2.0  1.0  1.0  2.0  1.0\n",
       "4260        0.403873   0.274020         1.498615  2.0  1.0  1.0  2.0  0.0\n",
       "4273        0.726327  -1.598754         0.364298  2.0  1.0  1.0  2.0  0.0\n",
       "4278       -0.476505   0.312061        -0.755267  2.0  1.0  1.0  2.0  1.0\n",
       "4287        1.836602   1.006803         1.397712  2.0  1.0  1.0  2.0  0.0\n",
       "4290       -1.174267  -0.145014        -1.404725  2.0  1.0  1.0  2.0  1.0\n",
       "4293       -0.292765   1.014975        -0.584246  2.0  1.0  1.0  2.0  0.0\n",
       "4294        0.305715   0.865668        -0.027196  2.0  1.0  1.0  2.0  1.0\n",
       "4302       -0.772601   0.158031        -1.030864  2.0  1.0  1.0  2.0  0.0\n",
       "4305       -0.352895  -0.082834        -0.027196  2.0  1.0  1.0  2.0  1.0\n",
       "4307       -0.292765   0.126910        -0.584246  2.0  1.0  1.0  2.0  1.0\n",
       "4312       -1.767209   0.496898        -0.726101  2.0  1.0  1.0  2.0  0.0\n",
       "4332       -0.090454  -1.797584        -0.395940  2.0  1.0  1.0  2.0  0.0\n",
       "4333       -0.704494  -0.962807        -0.967472  2.0  2.0  1.0  2.0  0.0\n",
       "4334        0.073699  -0.271878        -0.243151  2.0  1.0  1.0  2.0  0.0\n",
       "4343       -1.586780  -1.584595        -1.788681  2.0  1.0  0.0  2.0  1.0\n",
       "4352       -0.414128   0.118728         0.854759  2.0  1.0  1.0  2.0  2.0\n",
       "4358        0.938953   0.311113         0.562205  2.0  1.0  1.0  2.0  1.0\n",
       "4363        1.608613   0.019020         1.185507  2.0  1.0  1.0  2.0  0.0\n",
       "4367        1.309041   0.676547         0.906673  2.0  1.0  1.0  2.0  1.0"
      ]
     },
     "execution_count": 74,
     "metadata": {},
     "output_type": "execute_result"
    }
   ],
   "source": [
    "df_low_price.tail(25)"
   ]
  },
  {
   "cell_type": "code",
   "execution_count": 75,
   "id": "c4bc5437-cb75-4f13-9e8c-09f491a40dc1",
   "metadata": {},
   "outputs": [],
   "source": [
    "X_low = df_low_price.drop(columns=['price_log'], axis=1) \n",
    "y_low = df_low_price[['price_log']]\n",
    "X_train_low, X_test_low, y_train_low, y_test_low = train_test_split(X_low, y_low, random_state=50, test_size=.25)"
   ]
  },
  {
   "cell_type": "code",
   "execution_count": 76,
   "id": "eea2acf5-99c7-4ef9-bdef-dfdf4000165e",
   "metadata": {},
   "outputs": [
    {
     "data": {
      "text/html": [
       "<div>\n",
       "<style scoped>\n",
       "    .dataframe tbody tr th:only-of-type {\n",
       "        vertical-align: middle;\n",
       "    }\n",
       "\n",
       "    .dataframe tbody tr th {\n",
       "        vertical-align: top;\n",
       "    }\n",
       "\n",
       "    .dataframe thead th {\n",
       "        text-align: right;\n",
       "    }\n",
       "</style>\n",
       "<table border=\"1\" class=\"dataframe\">\n",
       "  <thead>\n",
       "    <tr style=\"text-align: right;\">\n",
       "      <th></th>\n",
       "      <th>sqft_above_log</th>\n",
       "      <th>sqft_living_log</th>\n",
       "      <th>0</th>\n",
       "      <th>1</th>\n",
       "      <th>2</th>\n",
       "      <th>3</th>\n",
       "      <th>4</th>\n",
       "    </tr>\n",
       "  </thead>\n",
       "  <tbody>\n",
       "    <tr>\n",
       "      <th>1908</th>\n",
       "      <td>2.764997</td>\n",
       "      <td>2.261838</td>\n",
       "      <td>2.0</td>\n",
       "      <td>1.0</td>\n",
       "      <td>1.0</td>\n",
       "      <td>2.0</td>\n",
       "      <td>1.0</td>\n",
       "    </tr>\n",
       "    <tr>\n",
       "      <th>2184</th>\n",
       "      <td>1.488499</td>\n",
       "      <td>1.073707</td>\n",
       "      <td>2.0</td>\n",
       "      <td>1.0</td>\n",
       "      <td>0.0</td>\n",
       "      <td>2.0</td>\n",
       "      <td>1.0</td>\n",
       "    </tr>\n",
       "    <tr>\n",
       "      <th>1126</th>\n",
       "      <td>-0.604871</td>\n",
       "      <td>-0.874746</td>\n",
       "      <td>2.0</td>\n",
       "      <td>2.0</td>\n",
       "      <td>1.0</td>\n",
       "      <td>2.0</td>\n",
       "      <td>0.0</td>\n",
       "    </tr>\n",
       "    <tr>\n",
       "      <th>2035</th>\n",
       "      <td>1.080121</td>\n",
       "      <td>0.693600</td>\n",
       "      <td>2.0</td>\n",
       "      <td>1.0</td>\n",
       "      <td>0.0</td>\n",
       "      <td>2.0</td>\n",
       "      <td>2.0</td>\n",
       "    </tr>\n",
       "    <tr>\n",
       "      <th>675</th>\n",
       "      <td>-0.772601</td>\n",
       "      <td>0.196360</td>\n",
       "      <td>2.0</td>\n",
       "      <td>2.0</td>\n",
       "      <td>1.0</td>\n",
       "      <td>2.0</td>\n",
       "      <td>1.0</td>\n",
       "    </tr>\n",
       "    <tr>\n",
       "      <th>...</th>\n",
       "      <td>...</td>\n",
       "      <td>...</td>\n",
       "      <td>...</td>\n",
       "      <td>...</td>\n",
       "      <td>...</td>\n",
       "      <td>...</td>\n",
       "      <td>...</td>\n",
       "    </tr>\n",
       "    <tr>\n",
       "      <th>1237</th>\n",
       "      <td>0.126670</td>\n",
       "      <td>-0.193847</td>\n",
       "      <td>2.0</td>\n",
       "      <td>2.0</td>\n",
       "      <td>1.0</td>\n",
       "      <td>2.0</td>\n",
       "      <td>2.0</td>\n",
       "    </tr>\n",
       "    <tr>\n",
       "      <th>465</th>\n",
       "      <td>0.918290</td>\n",
       "      <td>0.542972</td>\n",
       "      <td>2.0</td>\n",
       "      <td>1.0</td>\n",
       "      <td>1.0</td>\n",
       "      <td>2.0</td>\n",
       "      <td>1.0</td>\n",
       "    </tr>\n",
       "    <tr>\n",
       "      <th>4141</th>\n",
       "      <td>0.230155</td>\n",
       "      <td>-0.097526</td>\n",
       "      <td>2.0</td>\n",
       "      <td>2.0</td>\n",
       "      <td>0.0</td>\n",
       "      <td>2.0</td>\n",
       "      <td>1.0</td>\n",
       "    </tr>\n",
       "    <tr>\n",
       "      <th>2201</th>\n",
       "      <td>0.834333</td>\n",
       "      <td>0.464827</td>\n",
       "      <td>2.0</td>\n",
       "      <td>1.0</td>\n",
       "      <td>0.0</td>\n",
       "      <td>2.0</td>\n",
       "      <td>0.0</td>\n",
       "    </tr>\n",
       "    <tr>\n",
       "      <th>3117</th>\n",
       "      <td>1.381986</td>\n",
       "      <td>0.974568</td>\n",
       "      <td>2.0</td>\n",
       "      <td>2.0</td>\n",
       "      <td>1.0</td>\n",
       "      <td>2.0</td>\n",
       "      <td>1.0</td>\n",
       "    </tr>\n",
       "  </tbody>\n",
       "</table>\n",
       "<p>713 rows × 7 columns</p>\n",
       "</div>"
      ],
      "text/plain": [
       "      sqft_above_log  sqft_living_log    0    1    2    3    4\n",
       "1908        2.764997         2.261838  2.0  1.0  1.0  2.0  1.0\n",
       "2184        1.488499         1.073707  2.0  1.0  0.0  2.0  1.0\n",
       "1126       -0.604871        -0.874746  2.0  2.0  1.0  2.0  0.0\n",
       "2035        1.080121         0.693600  2.0  1.0  0.0  2.0  2.0\n",
       "675        -0.772601         0.196360  2.0  2.0  1.0  2.0  1.0\n",
       "...              ...              ...  ...  ...  ...  ...  ...\n",
       "1237        0.126670        -0.193847  2.0  2.0  1.0  2.0  2.0\n",
       "465         0.918290         0.542972  2.0  1.0  1.0  2.0  1.0\n",
       "4141        0.230155        -0.097526  2.0  2.0  0.0  2.0  1.0\n",
       "2201        0.834333         0.464827  2.0  1.0  0.0  2.0  0.0\n",
       "3117        1.381986         0.974568  2.0  2.0  1.0  2.0  1.0\n",
       "\n",
       "[713 rows x 7 columns]"
      ]
     },
     "execution_count": 76,
     "metadata": {},
     "output_type": "execute_result"
    }
   ],
   "source": [
    "X_train_low"
   ]
  },
  {
   "cell_type": "code",
   "execution_count": 77,
   "id": "fdc6a85d-014b-426a-9496-832aab99d075",
   "metadata": {},
   "outputs": [
    {
     "data": {
      "text/html": [
       "<table class=\"simpletable\">\n",
       "<caption>OLS Regression Results</caption>\n",
       "<tr>\n",
       "  <th>Dep. Variable:</th>        <td>price_log</td>    <th>  R-squared (uncentered):</th>      <td>   0.215</td>\n",
       "</tr>\n",
       "<tr>\n",
       "  <th>Model:</th>                   <td>OLS</td>       <th>  Adj. R-squared (uncentered):</th> <td>   0.207</td>\n",
       "</tr>\n",
       "<tr>\n",
       "  <th>Method:</th>             <td>Least Squares</td>  <th>  F-statistic:       </th>          <td>   27.58</td>\n",
       "</tr>\n",
       "<tr>\n",
       "  <th>Date:</th>             <td>Thu, 01 Jul 2021</td> <th>  Prob (F-statistic):</th>          <td>1.35e-33</td>\n",
       "</tr>\n",
       "<tr>\n",
       "  <th>Time:</th>                 <td>22:01:18</td>     <th>  Log-Likelihood:    </th>          <td> -930.25</td>\n",
       "</tr>\n",
       "<tr>\n",
       "  <th>No. Observations:</th>      <td>   713</td>      <th>  AIC:               </th>          <td>   1874.</td>\n",
       "</tr>\n",
       "<tr>\n",
       "  <th>Df Residuals:</th>          <td>   706</td>      <th>  BIC:               </th>          <td>   1906.</td>\n",
       "</tr>\n",
       "<tr>\n",
       "  <th>Df Model:</th>              <td>     7</td>      <th>                     </th>              <td> </td>   \n",
       "</tr>\n",
       "<tr>\n",
       "  <th>Covariance Type:</th>      <td>nonrobust</td>    <th>                     </th>              <td> </td>   \n",
       "</tr>\n",
       "</table>\n",
       "<table class=\"simpletable\">\n",
       "<tr>\n",
       "         <td></td>            <th>coef</th>     <th>std err</th>      <th>t</th>      <th>P>|t|</th>  <th>[0.025</th>    <th>0.975]</th>  \n",
       "</tr>\n",
       "<tr>\n",
       "  <th>sqft_above_log</th>  <td>    0.0322</td> <td>    0.057</td> <td>    0.565</td> <td> 0.573</td> <td>   -0.080</td> <td>    0.144</td>\n",
       "</tr>\n",
       "<tr>\n",
       "  <th>sqft_living_log</th> <td>    0.4373</td> <td>    0.056</td> <td>    7.761</td> <td> 0.000</td> <td>    0.327</td> <td>    0.548</td>\n",
       "</tr>\n",
       "<tr>\n",
       "  <th>0</th>               <td>   -0.1256</td> <td>    0.195</td> <td>   -0.644</td> <td> 0.520</td> <td>   -0.508</td> <td>    0.257</td>\n",
       "</tr>\n",
       "<tr>\n",
       "  <th>1</th>               <td>    0.0347</td> <td>    0.071</td> <td>    0.486</td> <td> 0.627</td> <td>   -0.105</td> <td>    0.175</td>\n",
       "</tr>\n",
       "<tr>\n",
       "  <th>2</th>               <td>    0.0626</td> <td>    0.064</td> <td>    0.971</td> <td> 0.332</td> <td>   -0.064</td> <td>    0.189</td>\n",
       "</tr>\n",
       "<tr>\n",
       "  <th>3</th>               <td>    0.0311</td> <td>    0.195</td> <td>    0.159</td> <td> 0.874</td> <td>   -0.352</td> <td>    0.414</td>\n",
       "</tr>\n",
       "<tr>\n",
       "  <th>4</th>               <td>    0.0382</td> <td>    0.047</td> <td>    0.810</td> <td> 0.418</td> <td>   -0.054</td> <td>    0.131</td>\n",
       "</tr>\n",
       "</table>\n",
       "<table class=\"simpletable\">\n",
       "<tr>\n",
       "  <th>Omnibus:</th>       <td>90.048</td> <th>  Durbin-Watson:     </th> <td>   2.030</td>\n",
       "</tr>\n",
       "<tr>\n",
       "  <th>Prob(Omnibus):</th> <td> 0.000</td> <th>  Jarque-Bera (JB):  </th> <td> 146.578</td>\n",
       "</tr>\n",
       "<tr>\n",
       "  <th>Skew:</th>          <td>-0.825</td> <th>  Prob(JB):          </th> <td>1.48e-32</td>\n",
       "</tr>\n",
       "<tr>\n",
       "  <th>Kurtosis:</th>      <td> 4.488</td> <th>  Cond. No.          </th> <td>    26.9</td>\n",
       "</tr>\n",
       "</table><br/><br/>Notes:<br/>[1] R² is computed without centering (uncentered) since the model does not contain a constant.<br/>[2] Standard Errors assume that the covariance matrix of the errors is correctly specified."
      ],
      "text/plain": [
       "<class 'statsmodels.iolib.summary.Summary'>\n",
       "\"\"\"\n",
       "                                 OLS Regression Results                                \n",
       "=======================================================================================\n",
       "Dep. Variable:              price_log   R-squared (uncentered):                   0.215\n",
       "Model:                            OLS   Adj. R-squared (uncentered):              0.207\n",
       "Method:                 Least Squares   F-statistic:                              27.58\n",
       "Date:                Thu, 01 Jul 2021   Prob (F-statistic):                    1.35e-33\n",
       "Time:                        22:01:18   Log-Likelihood:                         -930.25\n",
       "No. Observations:                 713   AIC:                                      1874.\n",
       "Df Residuals:                     706   BIC:                                      1906.\n",
       "Df Model:                           7                                                  \n",
       "Covariance Type:            nonrobust                                                  \n",
       "===================================================================================\n",
       "                      coef    std err          t      P>|t|      [0.025      0.975]\n",
       "-----------------------------------------------------------------------------------\n",
       "sqft_above_log      0.0322      0.057      0.565      0.573      -0.080       0.144\n",
       "sqft_living_log     0.4373      0.056      7.761      0.000       0.327       0.548\n",
       "0                  -0.1256      0.195     -0.644      0.520      -0.508       0.257\n",
       "1                   0.0347      0.071      0.486      0.627      -0.105       0.175\n",
       "2                   0.0626      0.064      0.971      0.332      -0.064       0.189\n",
       "3                   0.0311      0.195      0.159      0.874      -0.352       0.414\n",
       "4                   0.0382      0.047      0.810      0.418      -0.054       0.131\n",
       "==============================================================================\n",
       "Omnibus:                       90.048   Durbin-Watson:                   2.030\n",
       "Prob(Omnibus):                  0.000   Jarque-Bera (JB):              146.578\n",
       "Skew:                          -0.825   Prob(JB):                     1.48e-32\n",
       "Kurtosis:                       4.488   Cond. No.                         26.9\n",
       "==============================================================================\n",
       "\n",
       "Notes:\n",
       "[1] R² is computed without centering (uncentered) since the model does not contain a constant.\n",
       "[2] Standard Errors assume that the covariance matrix of the errors is correctly specified.\n",
       "\"\"\""
      ]
     },
     "execution_count": 77,
     "metadata": {},
     "output_type": "execute_result"
    }
   ],
   "source": [
    "f = y_train_low, X_train_low\n",
    "model_low = ols(formula=f, data=X_train_low).fit()\n",
    "model_low.summary()"
   ]
  },
  {
   "cell_type": "code",
   "execution_count": 78,
   "id": "13d46df3-fbce-4c4a-9723-93ba513e5428",
   "metadata": {},
   "outputs": [
    {
     "data": {
      "text/plain": [
       "price_log          1.000000\n",
       "sqft_living_log    0.437888\n",
       "sqft_above_log     0.351663\n",
       "4                  0.047681\n",
       "3                  0.025228\n",
       "1                  0.020836\n",
       "0                  0.019080\n",
       "2                  0.005755\n",
       "Name: price_log, dtype: float64"
      ]
     },
     "execution_count": 78,
     "metadata": {},
     "output_type": "execute_result"
    }
   ],
   "source": [
    "df_low_price.corr()['price_log'].map(abs).sort_values(ascending=False)"
   ]
  },
  {
   "cell_type": "code",
   "execution_count": 104,
   "id": "ab817f07-2202-4113-81d7-73783106e41c",
   "metadata": {},
   "outputs": [
    {
     "data": {
      "text/plain": [
       "0.11486542870474126"
      ]
     },
     "execution_count": 104,
     "metadata": {},
     "output_type": "execute_result"
    }
   ],
   "source": [
    "linreg_low = LinearRegression()\n",
    "linreg_low.fit(X_train_low, y_train_low)\n",
    "\n",
    "predicted_y_low = linreg_low.predict(X_test_low) \n",
    "\n",
    "linreg_low.score(X_test_low, y_test_low)"
   ]
  },
  {
   "cell_type": "code",
   "execution_count": 80,
   "id": "b29dd0c1-22fe-4204-b5e1-14446519d2f2",
   "metadata": {},
   "outputs": [],
   "source": [
    "lr_low = LinearRegression()"
   ]
  },
  {
   "cell_type": "code",
   "execution_count": 81,
   "id": "fc8292d5-790c-422f-8782-9545d7c0ebb9",
   "metadata": {},
   "outputs": [
    {
     "data": {
      "text/plain": [
       "LinearRegression()"
      ]
     },
     "execution_count": 81,
     "metadata": {},
     "output_type": "execute_result"
    }
   ],
   "source": [
    "lr_low.fit(X_train_low, y_train_low)"
   ]
  },
  {
   "cell_type": "code",
   "execution_count": 82,
   "id": "1b27f38b-00ef-4750-8eaa-9d3dc35578a6",
   "metadata": {},
   "outputs": [],
   "source": [
    "from sklearn.model_selection import KFold\n",
    "\n",
    "folds = KFold(10, shuffle = True)\n",
    "train_train_scores = []\n",
    "train_test_scores = []\n",
    "train_train_rmse = []\n",
    "train_test_rmse = []\n",
    "for train_ind, test_ind in folds.split(X_train_low):\n",
    "    X_train_low_train = X_train_low.iloc[train_ind]\n",
    "    X_train_low_test = X_train_low.iloc[test_ind]\n",
    "    y_train_low_train = y_train_low.iloc[train_ind]\n",
    "    y_train_low_test = y_train_low.iloc[test_ind]\n",
    "    linreg_low1 = LinearRegression()\n",
    "    linreg_low1.fit(X_train_low_train, y_train_low_train)\n",
    "    train_train_scores.append(linreg_low1.score(X_train_low_train, y_train_low_train))\n",
    "    train_test_scores.append(linreg_low1.score(X_train_low_test, y_train_low_test))\n",
    "    train_train_rmse.append(np.sqrt(mse(y_train_low_train, linreg_low1.predict(X_train_low_train))))\n",
    "    train_test_rmse.append(np.sqrt(mse(y_train_low_test, linreg_low1.predict(X_train_low_test))))\n",
    "    "
   ]
  },
  {
   "cell_type": "code",
   "execution_count": 100,
   "id": "472268a5-62c4-40c0-a709-dfdaaac5dcab",
   "metadata": {},
   "outputs": [
    {
     "data": {
      "text/plain": [
       "[0.23637522156068946,\n",
       " 0.19765727595808025,\n",
       " 0.20548842855681437,\n",
       " 0.2609667303537745,\n",
       " 0.14270006271362745,\n",
       " 0.3260176923716742,\n",
       " 0.054635797979627476,\n",
       " 0.1978451259774322,\n",
       " 0.09292999751821684,\n",
       " 0.16750658524329576]"
      ]
     },
     "execution_count": 100,
     "metadata": {},
     "output_type": "execute_result"
    }
   ],
   "source": [
    "train_test_scores"
   ]
  },
  {
   "cell_type": "code",
   "execution_count": 84,
   "id": "afdeed60-29bd-4707-a233-2d64b7d40bb6",
   "metadata": {},
   "outputs": [
    {
     "data": {
      "text/plain": [
       "[0.21011993407794527,\n",
       " 0.21471251067067998,\n",
       " 0.21433457151627267,\n",
       " 0.20342253229963325,\n",
       " 0.2206522635466276,\n",
       " 0.19891605731473683,\n",
       " 0.22346754224530319,\n",
       " 0.21533741250049476,\n",
       " 0.22947610639727767,\n",
       " 0.2172962875764506]"
      ]
     },
     "execution_count": 84,
     "metadata": {},
     "output_type": "execute_result"
    }
   ],
   "source": [
    "train_train_scores"
   ]
  },
  {
   "cell_type": "code",
   "execution_count": 85,
   "id": "77d83a30-46c1-4fd2-b8bc-cb60765b8e35",
   "metadata": {},
   "outputs": [
    {
     "data": {
      "text/plain": [
       "[0.8965644341995677,\n",
       " 0.9035134887016248,\n",
       " 0.8920589911517938,\n",
       " 0.8694525020605324,\n",
       " 0.8900713150282465,\n",
       " 0.894264900240048,\n",
       " 0.9021346664755081,\n",
       " 0.8884349021631972,\n",
       " 0.8733186869364132,\n",
       " 0.8913482786481045]"
      ]
     },
     "execution_count": 85,
     "metadata": {},
     "output_type": "execute_result"
    }
   ],
   "source": [
    "train_train_rmse"
   ]
  },
  {
   "cell_type": "code",
   "execution_count": 86,
   "id": "f3469c9c-4444-4eea-b549-6c689f79d1fa",
   "metadata": {},
   "outputs": [
    {
     "data": {
      "text/plain": [
       "[0.8445374190869988,\n",
       " 0.7695383277824711,\n",
       " 0.8803595317214786,\n",
       " 1.0679506075528364,\n",
       " 0.899555178165827,\n",
       " 0.8637769654518546,\n",
       " 0.788315397308969,\n",
       " 0.9130252730691657,\n",
       " 1.0368726405500748,\n",
       " 0.8913092119156245]"
      ]
     },
     "execution_count": 86,
     "metadata": {},
     "output_type": "execute_result"
    }
   ],
   "source": [
    "train_test_rmse"
   ]
  },
  {
   "cell_type": "code",
   "execution_count": 102,
   "id": "ad95e46a-8079-4c65-bfa0-7506d3224f9b",
   "metadata": {},
   "outputs": [
    {
     "data": {
      "text/plain": [
       "0.11486542870474126"
      ]
     },
     "metadata": {},
     "output_type": "display_data"
    },
    {
     "data": {
      "text/plain": [
       "0.21477352181454218"
      ]
     },
     "metadata": {},
     "output_type": "display_data"
    },
    {
     "data": {
      "text/plain": [
       "0.18821229182332325"
      ]
     },
     "metadata": {},
     "output_type": "display_data"
    }
   ],
   "source": [
    "display(linreg_low.score(X_test_low, y_test_low),statistics.mean(train_train_scores),statistics.mean(train_test_scores))"
   ]
  },
  {
   "cell_type": "code",
   "execution_count": 87,
   "id": "51c75b83-356e-4281-adb4-622ba219238f",
   "metadata": {},
   "outputs": [
    {
     "data": {
      "image/png": "[encoded data removed]",
      "text/plain": [
       "<Figure size 1440x720 with 2 Axes>"
      ]
     },
     "metadata": {
      "needs_background": "light"
     },
     "output_type": "display_data"
    }
   ],
   "source": [
    "fig, ax = plt.subplots(figsize = (20,10))\n",
    "visualizer_low = ResidualsPlot(linreg_low1, hist=False, qqplot=True)\n",
    "visualizer_low.fit(X_train_low_train, y_train_low_train)\n",
    "visualizer_low.score(X_train_low_test, y_train_low_test)\n",
    "visualizer_low.show();\n",
    "# plt.savefig('Linear Regression Model Lower plus QQ plot.png', dpi=300)"
   ]
  },
  {
   "cell_type": "code",
   "execution_count": 88,
   "id": "e27f6228-21ae-4578-9845-ed2508110a8b",
   "metadata": {},
   "outputs": [
    {
     "data": {
      "image/png": "[encoded data removed]",
      "text/plain": [
       "<Figure size 1440x720 with 2 Axes>"
      ]
     },
     "metadata": {
      "needs_background": "light"
     },
     "output_type": "display_data"
    }
   ],
   "source": [
    "fig, ax = plt.subplots(figsize = (20,10))\n",
    "visualizer_low = ResidualsPlot(linreg_low1)\n",
    "visualizer_low.fit(X_train_low_train, y_train_low_train)\n",
    "visualizer_low.score(X_test_low, y_test_low)\n",
    "visualizer_low.show();\n",
    "# plt.savefig('Linear Regression Model Lower Price.png', dpi=300)"
   ]
  },
  {
   "cell_type": "markdown",
   "id": "863a0851-bb9a-4079-b6b5-d89f36845b6f",
   "metadata": {},
   "source": [
    "## Middle Price Model"
   ]
  },
  {
   "cell_type": "code",
   "execution_count": null,
   "id": "bd7ebf9a-714d-4541-ac1b-416858b20b09",
   "metadata": {},
   "outputs": [],
   "source": [
    "df_middle_price_pre = df.loc[(300000 <= df['price']) & (df['price'] < 650000)]\n",
    "df_middle_price_pre.head()"
   ]
  },
  {
   "cell_type": "code",
   "execution_count": null,
   "id": "7e080e56-3f00-4ee4-91bf-d773cd9a9ea1",
   "metadata": {},
   "outputs": [],
   "source": [
    "df_middle_price_pre.columns"
   ]
  },
  {
   "cell_type": "code",
   "execution_count": null,
   "id": "c47c52c1-8b48-4e0e-be0a-502c8c80e0e5",
   "metadata": {},
   "outputs": [],
   "source": [
    "continuous = [\"sqft_above\", \"price\", \"sqft_living15\",\"sqft_living\",\"lat\"]\n",
    "\n",
    "categorical = ['bathrooms',\"grade\",\"state_rank\"]\n",
    "\n",
    "df_log = np.log(df_middle_price_pre[continuous])\n",
    "df_log.columns = [f\"{column}_log\" for column in df[continuous]]\n",
    "\n",
    "    \n",
    "df_norm = (np.log(df_middle_price_pre[continuous]) - np.mean(np.log(df_middle_price_pre[continuous])))/np.std(np.log(df_middle_price_pre[continuous]))\n",
    "df_norm.columns = [f\"{column}_log\" for column in df_low_price_pre[continuous]]\n",
    "\n",
    "df_ohe = pd.get_dummies(df_middle_price_pre[categorical], columns=categorical, drop_first = True)\n",
    "\n",
    "df_middle_price = pd.concat([df_norm, df_ohe], axis = 1)\n",
    "#df_middle_price = pd.concat([df_final1,df_middle_price_pre.drop(columns=['price', 'bedrooms', 'bathrooms', 'sqft_living', 'waterfront','condition', 'grade',\n",
    " #      'sqft_above', 'sqft_basement', 'lat', 'sqft_living15'])], axis=1)"
   ]
  },
  {
   "cell_type": "code",
   "execution_count": null,
   "id": "3776379d-e5b9-44f4-b08c-ed4fac1ce638",
   "metadata": {},
   "outputs": [],
   "source": [
    "df_middle_price.columns"
   ]
  },
  {
   "cell_type": "code",
   "execution_count": null,
   "id": "69c1893c-688b-4f98-9fb3-70e1fbaef1f7",
   "metadata": {},
   "outputs": [],
   "source": [
    "X_middle = df_middle_price.drop(columns=['price_log'], axis=1) \n",
    "y_middle = df_middle_price[['price_log']]\n",
    "X_train_middle, X_test_middle, y_train_middle, y_test_middle = train_test_split(X_middle, y_middle, random_state=50, test_size=.25)"
   ]
  },
  {
   "cell_type": "code",
   "execution_count": null,
   "id": "b557fb4e-07ef-4ee6-83ee-8b34722eaf4b",
   "metadata": {},
   "outputs": [],
   "source": [
    "f = y_train_middle, X_train_middle\n",
    "model_mid = ols(formula=f, data=X_train_middle).fit()\n",
    "model_mid.summary()"
   ]
  },
  {
   "cell_type": "code",
   "execution_count": null,
   "id": "e53164f2-346a-4a5d-accc-19aa43b965fb",
   "metadata": {},
   "outputs": [],
   "source": [
    "df_middle_price.corr()['price_log'].map(abs).sort_values(ascending=False)"
   ]
  },
  {
   "cell_type": "code",
   "execution_count": null,
   "id": "411f64ab-8594-4198-87a5-6899e8fd61f6",
   "metadata": {},
   "outputs": [],
   "source": [
    "linreg_mid = LinearRegression()\n",
    "linreg_mid.fit(X_train_middle, y_train_middle)\n",
    "\n",
    "predicted_y_middle = linreg_mid.predict(X_test_middle) \n",
    "\n",
    "linreg_mid.score(X_test_middle, y_test_middle)"
   ]
  },
  {
   "cell_type": "code",
   "execution_count": null,
   "id": "402eaba9-f933-4649-a7d0-034dba8335f2",
   "metadata": {},
   "outputs": [],
   "source": [
    "lr_middle = LinearRegression()"
   ]
  },
  {
   "cell_type": "code",
   "execution_count": null,
   "id": "884c5b44-b37b-4d15-aeb6-4833eedbaf27",
   "metadata": {},
   "outputs": [],
   "source": [
    "lr_middle.fit(X_train_middle, y_train_middle)"
   ]
  },
  {
   "cell_type": "code",
   "execution_count": null,
   "id": "870a5be5-8d32-4945-b636-14e904fe56d3",
   "metadata": {},
   "outputs": [],
   "source": [
    "folds2 = KFold(10, shuffle = True)\n",
    "train_train_scores_mid = []\n",
    "train_test_scores_mid = []\n",
    "train_train_rmse_mid = []\n",
    "train_test_rmse_mid = []\n",
    "for train_ind_mid, test_ind_mid in folds2.split(X_train_middle):\n",
    "    X_train_mid_train = X_train_middle.iloc[train_ind_mid]\n",
    "    X_train_mid_test = X_train_middle.iloc[test_ind_mid]\n",
    "    y_train_mid_train = y_train_middle.iloc[train_ind_mid]\n",
    "    y_train_mid_test = y_train_middle.iloc[test_ind_mid]\n",
    "    linreg_mid = LinearRegression()\n",
    "    linreg_mid.fit(X_train_mid_train, y_train_mid_train)\n",
    "    train_train_scores_mid.append(linreg_mid.score(X_train_mid_train, y_train_mid_train))\n",
    "    train_test_scores_mid.append(linreg_mid.score(X_train_mid_test, y_train_mid_test))\n",
    "    train_train_rmse_mid.append(np.sqrt(mse(y_train_mid_train, linreg_mid.predict(X_train_mid_train))))\n",
    "    train_test_rmse_mid.append(np.sqrt(mse(y_train_mid_test, linreg_mid.predict(X_train_mid_test))))"
   ]
  },
  {
   "cell_type": "code",
   "execution_count": null,
   "id": "f326d037-9810-4ccf-8caf-12a7e15a4d19",
   "metadata": {},
   "outputs": [],
   "source": [
    "train_train_scores_mid"
   ]
  },
  {
   "cell_type": "code",
   "execution_count": null,
   "id": "11eaf5db-c957-46d2-91b0-6183ef60c0fb",
   "metadata": {},
   "outputs": [],
   "source": [
    "train_test_scores_mid"
   ]
  },
  {
   "cell_type": "code",
   "execution_count": null,
   "id": "b6762886-ea03-4e4d-b4f5-0059b6228722",
   "metadata": {},
   "outputs": [],
   "source": [
    "train_train_rmse_mid"
   ]
  },
  {
   "cell_type": "code",
   "execution_count": null,
   "id": "5289e5d9-a13c-438e-8a73-66f7f8f67263",
   "metadata": {},
   "outputs": [],
   "source": [
    "train_test_rmse_mid"
   ]
  },
  {
   "cell_type": "code",
   "execution_count": null,
   "id": "6103652c-5b34-4148-9582-79c957c4cea4",
   "metadata": {},
   "outputs": [],
   "source": [
    "fig, ax = plt.subplots(figsize = (20,10))\n",
    "visualizer_middle = ResidualsPlot(linreg_mid, hist=False, qqplot=True)\n",
    "visualizer_middle.fit(X_train_mid_train, y_train_mid_train)\n",
    "visualizer_middle.score(X_train_mid_test, y_train_mid_test)\n",
    "visualizer_middle.show();\n",
    "# plt.savefig('Linear Regression Model Middle Price plus QQ plot.png', dpi=300)"
   ]
  },
  {
   "cell_type": "code",
   "execution_count": null,
   "id": "42e5fad5-1ab1-4e64-83bc-6056a5b1c8d3",
   "metadata": {},
   "outputs": [],
   "source": [
    "fig, ax = plt.subplots(figsize = (20,10))\n",
    "visualizer_middle = ResidualsPlot(linreg_mid, hist=True)\n",
    "visualizer_middle.fit(X_train_mid_train, y_train_mid_train)\n",
    "visualizer_middle.score(X_test_middle, y_test_middle)\n",
    "visualizer_middle.show();\n",
    "# plt.savefig('Linear Regression Model Middle Price.png', dpi=300)"
   ]
  },
  {
   "cell_type": "markdown",
   "id": "6b40852b-55e9-418a-8266-f73c1b940798",
   "metadata": {},
   "source": [
    "## Higher Price Model"
   ]
  },
  {
   "cell_type": "code",
   "execution_count": null,
   "id": "4612401a-b40f-41e8-88c7-8ab6d0815c2b",
   "metadata": {},
   "outputs": [],
   "source": [
    "df_higher_price = df.loc[df['price']>= 650000]\n",
    "df_higher_price"
   ]
  },
  {
   "cell_type": "code",
   "execution_count": null,
   "id": "cca7ec5d-7901-439c-87b5-d128e0ae1ef9",
   "metadata": {},
   "outputs": [],
   "source": [
    "df_higher_price.columns"
   ]
  },
  {
   "cell_type": "code",
   "execution_count": null,
   "id": "ce0adb3d-e9bc-4ce3-85dc-5e08eda4c44c",
   "metadata": {},
   "outputs": [],
   "source": [
    "continuous = [\"sqft_above\", \"price\", \"sqft_basement\",\"sqft_living\"]\n",
    "\n",
    "categorical = ['bathrooms',\"grade\",\"state_rank\", \"waterfront\"]\n",
    "\n",
    "df_log = np.log(df_middle_price_pre[continuous])\n",
    "df_log.columns = [f\"{column}_log\" for column in df[continuous]]\n",
    "\n",
    "    \n",
    "df_norm = (np.log(df_middle_price_pre[continuous]) - np.mean(np.log(df_middle_price_pre[continuous])))/np.std(np.log(df_middle_price_pre[continuous]))\n",
    "df_norm.columns = [f\"{column}_log\" for column in df_low_price_pre[continuous]]\n",
    "\n",
    "df_ohe = pd.get_dummies(df_middle_price_pre[categorical], columns=categorical, drop_first = True)\n",
    "\n",
    "df_higher_price = pd.concat([df_norm, df_ohe], axis = 1)"
   ]
  },
  {
   "cell_type": "code",
   "execution_count": null,
   "id": "c9f2c929-6adf-4baa-93ce-412f7d37726f",
   "metadata": {},
   "outputs": [],
   "source": [
    "df_higher_price.columns"
   ]
  },
  {
   "cell_type": "code",
   "execution_count": null,
   "id": "e4ab503e-e247-4179-803d-afcd29a42977",
   "metadata": {},
   "outputs": [],
   "source": [
    "X_higher = df_higher_price.drop(columns=['price_log'], axis=1) \n",
    "y_higher = df_higher_price[['price_log']]\n",
    "X_train_higher, X_test_higher, y_train_higher, y_test_higher = train_test_split(X_higher, y_higher, random_state=50, test_size=.25)"
   ]
  },
  {
   "cell_type": "code",
   "execution_count": null,
   "id": "956ff4d2-6680-44e8-97e9-b08dd652d340",
   "metadata": {},
   "outputs": [],
   "source": [
    "f = y_train_higher, X_train_higher\n",
    "model_high = ols(formula=f, data=X_train_higher).fit()\n",
    "model_high.summary()"
   ]
  },
  {
   "cell_type": "code",
   "execution_count": null,
   "id": "c3a385e1-f64c-4dfe-86e1-209e99b2f4ac",
   "metadata": {},
   "outputs": [],
   "source": [
    "df_higher_price.corr()['price_log'].map(abs).sort_values(ascending=False)"
   ]
  },
  {
   "cell_type": "code",
   "execution_count": null,
   "id": "d058c743-dece-4c10-ba02-2d0f436f2907",
   "metadata": {},
   "outputs": [],
   "source": [
    "linreg_high = LinearRegression()\n",
    "linreg_high.fit(X_train_higher, y_train_higher)\n",
    "\n",
    "predicted_y_higher = linreg_high.predict(X_test_higher) \n",
    "\n",
    "linreg_high.score(X_test_higher, y_test_higher)"
   ]
  },
  {
   "cell_type": "code",
   "execution_count": null,
   "id": "7eb07968-cd4b-4d33-8859-24ff8f162860",
   "metadata": {},
   "outputs": [],
   "source": [
    "lr_higher = LinearRegression()"
   ]
  },
  {
   "cell_type": "code",
   "execution_count": null,
   "id": "27e4049b-40b0-4b5d-be46-d4a67dd24097",
   "metadata": {},
   "outputs": [],
   "source": [
    "lr_higher.fit(X_train_higher, y_train_higher)"
   ]
  },
  {
   "cell_type": "code",
   "execution_count": null,
   "id": "1e83edda-3b31-4301-b549-da8ad45f4995",
   "metadata": {},
   "outputs": [],
   "source": [
    "folds3 = KFold(10, shuffle = True)\n",
    "train_train_scores_high = []\n",
    "train_test_scores_high = []\n",
    "train_train_rmse_high = []\n",
    "train_test_rmse_high = []\n",
    "for train_ind_high, test_ind_high in folds3.split(X_train_higher):\n",
    "    X_train_high_train = X_train_higher.iloc[train_ind_high]\n",
    "    X_train_high_test = X_train_higher.iloc[test_ind_high]\n",
    "    y_train_high_train = y_train_higher.iloc[train_ind_high]\n",
    "    y_train_high_test = y_train_higher.iloc[test_ind_high]\n",
    "    linreg_high = LinearRegression()\n",
    "    linreg_high.fit(X_train_high_train, y_train_high_train)\n",
    "    train_train_scores_high.append(linreg_high.score(X_train_high_train, y_train_high_train))\n",
    "    train_test_scores_high.append(linreg_high.score(X_train_high_test, y_train_high_test))\n",
    "    train_train_rmse_high.append(np.sqrt(mse(y_train_high_train, linreg_high.predict(X_train_high_train))))\n",
    "    train_test_rmse_high.append(np.sqrt(mse(y_train_high_test, linreg_high.predict(X_train_high_test))))"
   ]
  },
  {
   "cell_type": "code",
   "execution_count": null,
   "id": "6259ad02-0537-4a1d-8f7d-f1322e167219",
   "metadata": {},
   "outputs": [],
   "source": [
    "train_train_scores_high"
   ]
  },
  {
   "cell_type": "code",
   "execution_count": null,
   "id": "9b281ac5-9ea6-4246-b25c-87196a72a435",
   "metadata": {},
   "outputs": [],
   "source": [
    "train_test_scores_high"
   ]
  },
  {
   "cell_type": "code",
   "execution_count": null,
   "id": "65dbfd6c-f5a0-4f32-b8a5-511d1c1aaade",
   "metadata": {},
   "outputs": [],
   "source": [
    "train_train_rmse_high"
   ]
  },
  {
   "cell_type": "code",
   "execution_count": null,
   "id": "7d8635ae-e230-417f-91e7-228acd9f3a02",
   "metadata": {},
   "outputs": [],
   "source": [
    "train_test_rmse_high"
   ]
  },
  {
   "cell_type": "code",
   "execution_count": null,
   "id": "48e7fbb4-96a9-4cdd-bad4-1a9e512f3f51",
   "metadata": {},
   "outputs": [],
   "source": [
    "fig, ax = plt.subplots(figsize = (20,10))\n",
    "visualizer_higher = ResidualsPlot(linreg_high, hist=False, qqplot=True)\n",
    "visualizer_higher.fit(X_train_high_train, y_train_high_train)\n",
    "visualizer_higher.score(X_train_high_test, y_train_high_test)\n",
    "visualizer_higher.show();\n",
    "# plt.savefig('Linear Regression Model Higher Price plus QQ plot.png',dpi=300);"
   ]
  },
  {
   "cell_type": "code",
   "execution_count": null,
   "id": "12b09619-4794-4653-9525-3f86c8e12920",
   "metadata": {},
   "outputs": [],
   "source": [
    "fig, ax = plt.subplots(figsize = (20,10))\n",
    "visualizer_higher = ResidualsPlot(linreg_high)\n",
    "visualizer_higher.fit(X_train_high_train, y_train_high_train)\n",
    "visualizer_higher.score(X_test_higher, y_test_higher)\n",
    "visualizer_higher.show();\n",
    "# plt.savefig('Linear Regression Model High Price.png')"
   ]
  },
  {
   "cell_type": "code",
   "execution_count": null,
   "id": "ca641a13-c4ba-4be5-b489-8469fcc255f4",
   "metadata": {},
   "outputs": [],
   "source": []
  }
 ],
 "metadata": {
  "kernelspec": {
   "display_name": "learn-env",
   "language": "python",
   "name": "learn-env"
  },
  "language_info": {
   "codemirror_mode": {
    "name": "ipython",
    "version": 3
   },
   "file_extension": ".py",
   "mimetype": "text/x-python",
   "name": "python",
   "nbconvert_exporter": "python",
   "pygments_lexer": "ipython3",
   "version": "3.8.5"
  },
  "toc-autonumbering": false,
  "toc-showcode": false,
  "toc-showmarkdowntxt": false
 },
 "nbformat": 4,
 "nbformat_minor": 5
}
